{
 "cells": [
  {
   "cell_type": "markdown",
   "id": "e3b83040-6dc1-4db8-9632-00926230986b",
   "metadata": {},
   "source": [
    "1. Реализовать скрипт, в котором должна быть предусмотрена функция расчёта заработной платы сотрудника. Используйте в нём формулу: (выработка в часах*ставка в час) + премия. Во время выполнения расчёта для конкретных значений необходимо запускать скрипт с параметрами.\n",
    "\n",
    "2. Представлен список чисел. Необходимо вывести элементы исходного списка, значения которых больше предыдущего элемента.\n",
    "\n",
    "    Подсказка: элементы, удовлетворяющие условию, оформить в виде списка. Для его формирования используйте генератор.\n",
    "    Пример исходного списка: [300, 2, 12, 44, 1, 1, 4, 10, 7, 1, 78, 123, 55].\n",
    "    Результат: [12, 44, 4, 10, 78, 123].\n",
    "\n",
    "3. Для чисел в пределах от 20 до 240 найти числа, кратные 20 или 21. Решите задание в одну строку.\n",
    "\n",
    "    Подсказка: используйте функцию range() и генератор.\n",
    "\n",
    "4. Представлен список чисел. Определите элементы списка, не имеющие повторений. Сформируйте итоговый массив чисел, соответствующих требованию. Элементы выведите в порядке их следования в исходном списке. Для выполнения задания обязательно используйте генератор.\n",
    "\n",
    "    Пример исходного списка: [2, 2, 2, 7, 23, 1, 44, 44, 3, 2, 10, 7, 4, 11].\n",
    "    Результат: [23, 1, 3, 10, 4, 11]\n",
    "    \n",
    "5. Реализовать формирование списка, используя функцию range() и возможности генератора. В список должны войти чётные числа от 100 до 1000 (включая границы). Нужно получить результат вычисления произведения всех элементов списка.\n",
    "\n",
    "    Подсказка: использовать функцию reduce().\n",
    "\n",
    "6. Реализовать два небольших скрипта:\n",
    "\n",
    " * итератор, генерирующий целые числа, начиная с указанного;\n",
    " * итератор, повторяющий элементы некоторого списка, определённого заранее. Подсказка: используйте функцию count() и cycle() модуля itertools. Обратите внимание, что создаваемый цикл не должен быть бесконечным. Предусмотрите условие его завершения. #### Например, в первом задании выводим целые числа, начиная с 3. При достижении числа 10 — завершаем цикл. Вторым пунктом необходимо предусмотреть условие, при котором повторение элементов списка прекратится.\n",
    "\n",
    "7. Реализовать генератор с помощью функции с ключевым словом yield, создающим очередное значение. При вызове функции должен создаваться объект-генератор. Функция вызывается следующим образом: for el in fact(n). Она отвечает за получение факториала числа. В цикле нужно выводить только первые n чисел, начиная с 1! и до n!.\n",
    "\n",
    "    Подсказка: факториал числа n — произведение чисел от 1 до n. Например, факториал четырёх 4! = 1 * 2 * 3 * 4 = 24."
   ]
  },
  {
   "cell_type": "markdown",
   "id": "27dc2800-1343-4ae0-8998-765c52cc7bfe",
   "metadata": {},
   "source": [
    "# Задача 1"
   ]
  },
  {
   "cell_type": "code",
   "execution_count": 1,
   "id": "67bdbaec-1356-4799-b882-9aeb38abc11c",
   "metadata": {},
   "outputs": [
    {
     "name": "stdin",
     "output_type": "stream",
     "text": [
      "Укажите количество отработанных часов:  50\n",
      "Укажите размер почасовой оплаты:  200\n"
     ]
    },
    {
     "name": "stdout",
     "output_type": "stream",
     "text": [
      "Учитывая количество отработанных часов и размер почасовой оплаты,      \n",
      "заработная плата составит 10000.0.\n"
     ]
    }
   ],
   "source": [
    "import os\n",
    "\n",
    "hours = float(input('Укажите количество отработанных часов: '))\n",
    "salary_per_hour = float(input('Укажите размер почасовой оплаты: '))\n",
    "\n",
    "os.system(f'python3 lesson4_HW_salary.py {hours} {salary_per_hour}');"
   ]
  },
  {
   "cell_type": "markdown",
   "id": "beef374c-9f10-44c8-b827-80e85ebd8628",
   "metadata": {},
   "source": [
    "# Задача 2"
   ]
  },
  {
   "cell_type": "code",
   "execution_count": 2,
   "id": "944cda33-55bb-486c-81e8-300f54a82b19",
   "metadata": {},
   "outputs": [
    {
     "data": {
      "text/plain": [
       "[12, 44, 4, 10, 78, 123]"
      ]
     },
     "execution_count": 2,
     "metadata": {},
     "output_type": "execute_result"
    }
   ],
   "source": [
    "sample_list = [300, 2, 12, 44, 1, 1, 4, 10, 7, 1, 78, 123, 55]\n",
    "\n",
    "result_list = [i for k,i in zip(sample_list[:-1],sample_list[1:]) if k<i]\n",
    "result_list"
   ]
  },
  {
   "cell_type": "markdown",
   "id": "fabcf4bd-c2ce-4a1f-a63e-b695d2e02aeb",
   "metadata": {},
   "source": [
    "# Задача 3"
   ]
  },
  {
   "cell_type": "code",
   "execution_count": 3,
   "id": "a6dd0467-4d23-4fdc-9afe-da5e3f072e38",
   "metadata": {},
   "outputs": [
    {
     "name": "stdout",
     "output_type": "stream",
     "text": [
      "20, 21, 40, 42, 60, 63, 80, 84, 100, 105, 120, 126, 140, 147, 160, 168, 180, 189, 200, 210, 220, 231, 240\n"
     ]
    }
   ],
   "source": [
    "result_list = [i for i in range(20,241) if i%20==0 or i%21==0]\n",
    "print(*result_list,sep=', ')"
   ]
  },
  {
   "cell_type": "markdown",
   "id": "20580469-bca1-4ebe-8473-d2bef7dd04a8",
   "metadata": {},
   "source": [
    "# Задача 4"
   ]
  },
  {
   "cell_type": "code",
   "execution_count": 4,
   "id": "76bb6390-ee97-4b7c-9f2d-178710391e0a",
   "metadata": {},
   "outputs": [
    {
     "data": {
      "text/plain": [
       "[23, 1, 3, 10, 4, 11]"
      ]
     },
     "execution_count": 4,
     "metadata": {},
     "output_type": "execute_result"
    }
   ],
   "source": [
    "sample_list = [2, 2, 2, 7, 23, 1, 44, 44, 3, 2, 10, 7, 4, 11]\n",
    "result_list = [i for k,i in enumerate(sample_list) if i not in sample_list[k+1:] and i not in sample_list[:k]]\n",
    "result_list"
   ]
  },
  {
   "cell_type": "markdown",
   "id": "07c44768-331b-4bec-b80e-16912e03477f",
   "metadata": {},
   "source": [
    "# Задача 5"
   ]
  },
  {
   "cell_type": "code",
   "execution_count": 5,
   "id": "663571eb-fb87-4786-b62a-82dcb4525a99",
   "metadata": {},
   "outputs": [
    {
     "name": "stdout",
     "output_type": "stream",
     "text": [
      "Результат умножения четных чисел от 100 до 1000 включительно: 11663575674444359823002008139390746528142707402328361705647495301216245827892256323421573853031635648105175857107321864360366071385039128549679496343675509640183219826717346573458260381851930244150425562315833417515264123698581740276921937117732298873364203269398167251131992557619396626253824845619285980851485012131859200089180731617159967796785692496658820266554970195579987101761437467345295469560091019643416890744175485355715583034412689664621367823158491721734017238669568797130683826947437814864890599291484009747561514288528353178159298856645624289518581586947168677504742711452824976368290519747367284033226821443792754573564848344600041433089899538479032717299413920051538113896509134682791976736868238046387230383008696853107977931851651379555533347652931008271572588724198961970056163028633888796670948358527288343719100865852117339478785474064397937004993302565523495403857150309972891503340949896943795594807214141508464167055846685872109706922589562538698747726222566785521882450614299594376824656706451033378744188256788426310583732611392640652066952551824890922829689995132928000000000000000000000000000000000000000000000000000000000000000000000000000000000000000000000000000000000000000000\n"
     ]
    }
   ],
   "source": [
    "# import numpy as np\n",
    "from functools import reduce\n",
    "\n",
    "def even_multipier(prev_val,next_val):\n",
    "    return prev_val * next_val\n",
    "print(f'Результат умножения четных чисел от 100 до 1000 включительно: {reduce(even_multipier,[i for i in range(100,1001) if i%2==0])}')\n",
    "\n",
    "# numpy_even_multiplier = np.cumproduct([i for i in range(100,1001) if i%2==0])\n",
    "# print(f'Результат умножения четных чисел от 100 до 1000 включительно: {numpy_even_multiplier}')"
   ]
  },
  {
   "cell_type": "markdown",
   "id": "c320a9c6-8415-40c4-b477-e7bf27a118b7",
   "metadata": {},
   "source": [
    "# Задача 6"
   ]
  },
  {
   "cell_type": "markdown",
   "id": "0e546b76-3b1d-4dbd-9cd2-bb40f2e8f1ef",
   "metadata": {},
   "source": [
    "1"
   ]
  },
  {
   "cell_type": "code",
   "execution_count": 6,
   "id": "eb96a231-8a4f-49d5-b6e2-8a183cce38ee",
   "metadata": {},
   "outputs": [
    {
     "name": "stdin",
     "output_type": "stream",
     "text": [
      "Укажите, какое количество чисел нужно сгенерировать:  5\n",
      "Укажите, с какого числа нужно начать генерацию чисел:  20\n"
     ]
    },
    {
     "data": {
      "text/plain": [
       "[20, 21, 22, 23, 24]"
      ]
     },
     "execution_count": 6,
     "metadata": {},
     "output_type": "execute_result"
    }
   ],
   "source": [
    "import lesson4_HW_task6_1 as l61\n",
    "\n",
    "length = int(input('Укажите, какое количество чисел нужно сгенерировать: '))\n",
    "start = int(input('Укажите, с какого числа нужно начать генерацию чисел: '))\n",
    "\n",
    "result_list = l61.list_generator(length,start)\n",
    "result_list"
   ]
  },
  {
   "cell_type": "markdown",
   "id": "f59416ab-064d-4cbd-ada4-0c85e0a4ab1f",
   "metadata": {},
   "source": [
    "2"
   ]
  },
  {
   "cell_type": "code",
   "execution_count": 7,
   "id": "81aba3d0-9a7f-4457-ba5f-c7324fcd8bf6",
   "metadata": {},
   "outputs": [
    {
     "name": "stdout",
     "output_type": "stream",
     "text": [
      "На 22 ходу сумма всех элементов списка составила 12939257000,\n",
      "        а длина списка - 20971520\n"
     ]
    }
   ],
   "source": [
    "import lesson4_HW_task6_2 as l62\n",
    "\n",
    "z,summa,result_list = l62.generator(result_list)\n",
    "print(f'На {z} ходу сумма всех элементов списка составила {summa},\\n\\\n",
    "        а длина списка - {len(result_list)}')"
   ]
  },
  {
   "cell_type": "markdown",
   "id": "729dccb0-5d4f-455f-b189-06b6360c9846",
   "metadata": {},
   "source": [
    "# Задача 7"
   ]
  },
  {
   "cell_type": "code",
   "execution_count": 8,
   "id": "d066d5ca-2a30-496a-8865-2da5fb136de1",
   "metadata": {
    "tags": []
   },
   "outputs": [
    {
     "name": "stdout",
     "output_type": "stream",
     "text": [
      "1! = 1\n",
      "2! = 2\n",
      "3! = 6\n",
      "4! = 24\n",
      "5! = 120\n"
     ]
    }
   ],
   "source": [
    "from functools import reduce\n",
    "def multiply(z,n):\n",
    "    z *= n\n",
    "    return z\n",
    "\n",
    "def factorial(n):\n",
    "    z=1\n",
    "    yield [reduce(multiply,range(1,i+1)) for i in range(1,n)]\n",
    "    \n",
    "n=5\n",
    "print(*[str(k+1)+'! = '+str(i)\\\n",
    "        for k,i in enumerate([el for el in factorial(n+1)][0])],sep='\\n')\n",
    "# for i in range(1,n+1):\n",
    "#     print(f'{i}! = {result[i-1]}')\n",
    "    \n",
    "\n"
   ]
  },
  {
   "cell_type": "code",
   "execution_count": 9,
   "id": "1e499194-bfa2-429a-86f8-7ca0cf86387b",
   "metadata": {},
   "outputs": [
    {
     "name": "stdout",
     "output_type": "stream",
     "text": [
      "1! = 1\n",
      "2! = 2\n",
      "3! = 6\n",
      "4! = 24\n",
      "5! = 120\n"
     ]
    }
   ],
   "source": [
    "import numpy as np\n",
    "def factorial(n):\n",
    "    fact = [x for x in np.cumproduct(range(1,n+1))]\n",
    "    yield fact\n",
    "\n",
    "n=5\n",
    "\n",
    "print(*[str(k+1)+'! = '+str(i)\n",
    "        for k,i in enumerate([el for el in factorial(n)][0])],sep='\\n')"
   ]
  },
  {
   "cell_type": "code",
   "execution_count": null,
   "id": "a054c2c2-3e9d-4c98-add7-38a4073bf849",
   "metadata": {},
   "outputs": [],
   "source": []
  }
 ],
 "metadata": {
  "kernelspec": {
   "display_name": "Python 3 (ipykernel)",
   "language": "python",
   "name": "python3"
  },
  "language_info": {
   "codemirror_mode": {
    "name": "ipython",
    "version": 3
   },
   "file_extension": ".py",
   "mimetype": "text/x-python",
   "name": "python",
   "nbconvert_exporter": "python",
   "pygments_lexer": "ipython3",
   "version": "3.9.7"
  }
 },
 "nbformat": 4,
 "nbformat_minor": 5
}
