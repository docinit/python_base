{
 "cells": [
  {
   "cell_type": "markdown",
   "id": "90775afb-71f0-4066-9446-c86b1d4cc152",
   "metadata": {},
   "source": [
    "1. Создать список и заполнить его элементами различных типов данных. Реализовать скрипт проверки типа данных каждого элемента. Использовать функцию type() для проверки типа. Элементы списка можно не запрашивать у пользователя, а указать явно, в программе.\n",
    "2. Для списка реализовать обмен значений соседних элементов. Значениями обмениваются элементы с индексами 0 и 1, 2 и 3 и т. д. При нечётном количестве элементов последний сохранить на своём месте. Для заполнения списка элементов нужно использовать функцию input().\n",
    "3. Пользователь вводит месяц в виде целого числа от 1 до 12. Сообщить, к какому времени года относится месяц (зима, весна, лето, осень). Напишите решения через list и dict.\n",
    "4. Пользователь вводит строку из нескольких слов, разделённых пробелами. Вывести каждое слово с новой строки. Строки нужно пронумеровать. Если слово длинное, выводить только первые 10 букв в слове.\n",
    "5. Реализовать структуру «Рейтинг», представляющую собой набор натуральных чисел, который не возрастает. У пользователя нужно запрашивать новый элемент рейтинга. Если в рейтинге существуют элементы с одинаковыми значениями, то новый элемент с тем же значением должен разместиться после них.\n",
    "\n",
    "        Подсказка. Например, набор натуральных чисел: 7, 5, 3, 3, 2.\n",
    "        Пользователь ввёл число 3. Результат: 7, 5, 3, 3, 3, 2.\n",
    "        Пользователь ввёл число 8. Результат: 8, 7, 5, 3, 3, 2.\n",
    "        Пользователь ввёл число 1. Результат: 7, 5, 3, 3, 2, 1.\n",
    "        Набор натуральных чисел можно задать сразу в коде, например, my_list = [7, 5, 3, 3, 2].\n",
    "\n",
    "\n",
    "\n",
    "6. * Реализовать структуру данных «Товары». Она должна представлять собой список кортежей. Каждый кортеж хранит информацию об отдельном товаре. В кортеже должно быть два элемента — номер товара и словарь с параметрами, то есть характеристиками товара: название, цена, количество, единица измерения. Структуру нужно сформировать программно, запросив все данные у пользователя.\n",
    "\n",
    "Пример готовой структуры:\n",
    "\n",
    "[\n",
    "(1, {“название”: “компьютер”, “цена”: 20000, “количество”: 5, “eд”: “шт.”}),\n",
    "(2, {“название”: “принтер”, “цена”: 6000, “количество”: 2, “eд”: “шт.”}),\n",
    "(3, {“название”: “сканер”, “цена”: 2000, “количество”: 7, “eд”: “шт.”})\n",
    "]\n",
    "Нужно собрать аналитику о товарах. Реализовать словарь, в котором каждый ключ — характеристика товара, например, название. Тогда значение — список значений-характеристик, например, список названий товаров.\n",
    "\n",
    "Пример:\n",
    "\n",
    "{\n",
    "“название”: [“компьютер”, “принтер”, “сканер”],\n",
    "“цена”: [20000, 6000, 2000],\n",
    "“количество”: [5, 2, 7],\n",
    "“ед”: [“шт.”]\n",
    "}"
   ]
  },
  {
   "cell_type": "markdown",
   "id": "5831702f-b294-43cf-9622-dc64f83918b3",
   "metadata": {},
   "source": [
    "# Задача 1"
   ]
  },
  {
   "cell_type": "code",
   "execution_count": 1,
   "id": "8684ec26-7e81-4de8-8fd2-68bd2778a219",
   "metadata": {},
   "outputs": [
    {
     "name": "stdout",
     "output_type": "stream",
     "text": [
      "<class 'int'>\n",
      "<class 'str'>\n",
      "<class 'dict'>\n",
      "<class 'tuple'>\n",
      "<class 'bool'>\n",
      "<class 'NoneType'>\n"
     ]
    }
   ],
   "source": [
    "check_type_list = [1,'string',{1:'string'},(1,2,3),True,None]\n",
    "for i in check_type_list:\n",
    "    print(type(i))"
   ]
  },
  {
   "cell_type": "markdown",
   "id": "74b8b5a8-6e1f-4a62-ad54-586d1c368658",
   "metadata": {},
   "source": [
    "# Задача 2"
   ]
  },
  {
   "cell_type": "code",
   "execution_count": 2,
   "id": "4879d2f5-7ed4-4e96-9c7c-5dbb643bdd63",
   "metadata": {},
   "outputs": [
    {
     "name": "stdin",
     "output_type": "stream",
     "text": [
      "Укажите элементы списка через запятую:  1,2,3,4,5,6,7,8,9,10, раз, два, три\n"
     ]
    },
    {
     "name": "stdout",
     "output_type": "stream",
     "text": [
      "Вы создали список:  1 2 3 4 5 6 7 8 9 10  раз  два  три\n",
      "Новый список после обмена значений:  2 1 4 3 6 5 8 7 10 9  два  раз  три\n"
     ]
    }
   ],
   "source": [
    "exchange_list = input('Укажите элементы списка через запятую: ').split(',')\n",
    "print('Вы создали список: ',*exchange_list)\n",
    "for k,i in enumerate(exchange_list):\n",
    "    if k%2==0 and k+1<len(exchange_list):\n",
    "        exchange_list[k],exchange_list[k+1] = exchange_list[k+1],exchange_list[k]\n",
    "        \n",
    "print('Новый список после обмена значений: ',*exchange_list)"
   ]
  },
  {
   "cell_type": "markdown",
   "id": "3479d67a-862a-47e0-bd39-8324fb6e1d26",
   "metadata": {},
   "source": [
    "# Задача 3"
   ]
  },
  {
   "cell_type": "code",
   "execution_count": 3,
   "id": "1f796d88-80d1-48cd-98df-1c27f960c299",
   "metadata": {},
   "outputs": [
    {
     "name": "stdin",
     "output_type": "stream",
     "text": [
      "Введите номер месяца:  10\n"
     ]
    },
    {
     "name": "stdout",
     "output_type": "stream",
     "text": [
      "Вывод из словаря:\n",
      "Осень\n",
      "Вывод из списка:\n",
      "Осень\n"
     ]
    }
   ],
   "source": [
    "season_dict = {'Зима':[12,1,2],'Весна':[3,4,5],'Лето':[6,7,8],'Осень':[9,10,11]}\n",
    "season_list = [['Зима',12,1,2],['Весна',3,4,5],['Лето',6,7,8],['Осень',9,10,11]]\n",
    "season_checker = int(input('Введите номер месяца: '))\n",
    "\n",
    "print('Вывод из словаря:')\n",
    "print([i for i in season_dict if season_checker in season_dict[i]][0])\n",
    "print('Вывод из списка:')\n",
    "print([(i[0]) for i in season_list if season_checker in i[1:]][0])"
   ]
  },
  {
   "cell_type": "markdown",
   "id": "af409bec-b2f2-4d18-a3e8-9d36aad2c6a4",
   "metadata": {},
   "source": [
    "# Задача 4"
   ]
  },
  {
   "cell_type": "code",
   "execution_count": 4,
   "id": "504a840d-748f-438e-80b4-9b81239a8657",
   "metadata": {},
   "outputs": [
    {
     "name": "stdin",
     "output_type": "stream",
     "text": [
      "Введите строку из одного или более слов:  скоро в общеобразовательную школу!\n"
     ]
    },
    {
     "name": "stdout",
     "output_type": "stream",
     "text": [
      "\n",
      " 0: скоро\n",
      " 1: в\n",
      " 2: общеобразо\n",
      " 3: школу!\n",
      "\n"
     ]
    }
   ],
   "source": [
    "string = list(enumerate(input('Введите строку из одного или более слов: ').split()))\n",
    "print('\\n',*[str(i[0])+': '+i[1][:10]+'\\n' for i in string])"
   ]
  },
  {
   "cell_type": "markdown",
   "id": "51262b7e-5b55-407b-bfc3-cccb744cc152",
   "metadata": {},
   "source": [
    "# Задача 5"
   ]
  },
  {
   "cell_type": "code",
   "execution_count": 5,
   "id": "3c795020-2771-4bf8-a52b-c7888b2b06e7",
   "metadata": {},
   "outputs": [
    {
     "name": "stdin",
     "output_type": "stream",
     "text": [
      "Введите новое значение рейтинга:  19\n"
     ]
    },
    {
     "name": "stdout",
     "output_type": "stream",
     "text": [
      "19 7 5 3 3 2\n"
     ]
    }
   ],
   "source": [
    "rating = [7, 5, 3, 3, 2]\n",
    "new_value = int(input('Введите новое значение рейтинга: '))\n",
    "\n",
    "if new_value in rating:\n",
    "    the_same_value_index = rating.index([i for i in rating if i==new_value][-1])\n",
    "    rating.insert(the_same_value_index+1,new_value)\n",
    "elif new_value<=max(rating):\n",
    "    mt_value_index = rating.index([i for i in rating if i>new_value][-1])\n",
    "    rating.insert(mt_value_index+1,new_value)\n",
    "else:\n",
    "    rating.insert(0,new_value)\n",
    "    \n",
    "print(*rating)"
   ]
  },
  {
   "cell_type": "markdown",
   "id": "e0975298-a61c-4d3b-a64b-4089d52d9ef5",
   "metadata": {},
   "source": [
    "# Задача 6"
   ]
  },
  {
   "cell_type": "code",
   "execution_count": 6,
   "id": "e1a89118-264a-4658-a5a3-835d9b8d47dc",
   "metadata": {},
   "outputs": [
    {
     "name": "stdin",
     "output_type": "stream",
     "text": [
      "Введите название товара:  ноутбук\n",
      "Введите стоимость товара:  50000\n",
      "Введите количество товара:  1\n",
      "Введите единицу измерения количества товара:  шт.\n"
     ]
    },
    {
     "data": {
      "text/plain": [
       "{0: ['компьютер', 20000, 5, 'шт.'],\n",
       " 1: ['принтер', 6000, 2, 'шт.'],\n",
       " 2: ['сканер', 2000, 7, 'шт.'],\n",
       " 3: ['ноутбук', 50000, 1, 'шт.']}"
      ]
     },
     "execution_count": 6,
     "metadata": {},
     "output_type": "execute_result"
    }
   ],
   "source": [
    "# Начальный список товаров\n",
    "product_list = ['компьютер', 'принтер', 'сканер']\n",
    "price_list = [20000, 6000, 2000]\n",
    "quantity_list = [5, 2, 7]\n",
    "unit_list = ['шт.','шт.','шт.']\n",
    "\n",
    "\n",
    "# Новый товар, который вводит пользователь\n",
    "product = input('Введите название товара: ')\n",
    "price = int(input('Введите стоимость товара: '))\n",
    "quantity = int(input('Введите количество товара: '))\n",
    "unit = input('Введите единицу измерения количества товара: ')\n",
    "\n",
    "product_list.append(product)\n",
    "price_list.append(price)\n",
    "quantity_list.append(quantity)\n",
    "unit_list.append(unit)\n",
    "\n",
    "# Создаем структуру для хранения товаров\n",
    "lists = [product_list,price_list,quantity_list,unit_list]\n",
    "full_dict = {}\n",
    "for k,i in enumerate(range(len(lists))):\n",
    "    full_dict[i] = [i for i in list(zip(*lists))[k]]\n",
    "    \n",
    "    \n",
    "\n",
    "# Вывод структуры на экран\n",
    "full_dict"
   ]
  },
  {
   "cell_type": "code",
   "execution_count": 7,
   "id": "b095311d-4972-4e1b-a609-42edb91f806e",
   "metadata": {},
   "outputs": [
    {
     "data": {
      "text/plain": [
       "{'Названия товаров': ['ноутбук', 'компьютер', 'принтер', 'сканер'],\n",
       " 'Цены': [20000, 50000, 6000, 2000],\n",
       " 'Количества': [1, 2, 5, 7],\n",
       " 'Единицы измерения': ['шт.']}"
      ]
     },
     "execution_count": 7,
     "metadata": {},
     "output_type": "execute_result"
    }
   ],
   "source": [
    "# Создание аналитики, согласно заданию\n",
    "analytics = {}\n",
    "name_lists = ['Названия товаров','Цены','Количества','Единицы измерения']\n",
    "for k in range(len(full_dict)):\n",
    "    analytics[name_lists[k]] = list(set([i[k] for i in full_dict.values()]))\n",
    "analytics"
   ]
  },
  {
   "cell_type": "code",
   "execution_count": null,
   "id": "0f48753a-8fcb-444a-8fa6-2656c0d832d0",
   "metadata": {},
   "outputs": [],
   "source": []
  }
 ],
 "metadata": {
  "kernelspec": {
   "display_name": "Python 3",
   "language": "python",
   "name": "python3"
  },
  "language_info": {
   "codemirror_mode": {
    "name": "ipython",
    "version": 3
   },
   "file_extension": ".py",
   "mimetype": "text/x-python",
   "name": "python",
   "nbconvert_exporter": "python",
   "pygments_lexer": "ipython3",
   "version": "3.8.8"
  }
 },
 "nbformat": 4,
 "nbformat_minor": 5
}
