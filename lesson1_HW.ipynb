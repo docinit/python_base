{
 "cells": [
  {
   "cell_type": "markdown",
   "id": "c9ab9652-a4f6-4ec8-89c3-4babe027d41f",
   "metadata": {},
   "source": [
<<<<<<< HEAD
    "# Задание к Уроку №1\n",
=======
>>>>>>> b697f5d (Выполнено задание первого урока курса Основы языка Python)
    "1. Поработайте с переменными, создайте несколько, выведите на экран. Запросите у пользователя некоторые числа и строки и сохраните в переменные, затем выведите на экран.\n",
    "\n",
    "2. Пользователь вводит время в секундах. Переведите время в часы, минуты, секунды и выведите в формате чч:мм:сс. Используйте форматирование строк.\n",
    "\n",
    "3. Узнайте у пользователя число n. Найдите сумму чисел n + nn + nnn. Например, пользователь ввёл число 3. Считаем 3 + 33 + 333 = 369.\n",
    "4. Пользователь вводит целое положительное число. Найдите самую большую цифру в числе. Для решения используйте цикл while и арифметические операции.\n",
    "\n",
    "5. Запросите у пользователя значения выручки и издержек фирмы. Определите, с каким финансовым результатом работает фирма. Например, прибыль — выручка больше издержек, или убыток — издержки больше выручки. Выведите соответствующее сообщение.\n",
    "\n",
    "6. Если фирма отработала с прибылью, вычислите рентабельность выручки. Это отношение прибыли к выручке. Далее запросите численность сотрудников фирмы и определите прибыль фирмы в расчёте на одного сотрудника.\n",
    "\n",
    "7. Спортсмен занимается ежедневными пробежками. В первый день его результат составил a километров. Каждый день спортсмен увеличивал результат на 10% относительно предыдущего. Требуется определить номер дня, на который результат спортсмена составит не менее b километров. Программа должна принимать значения параметров a и b и выводить одно натуральное число — номер дня.\n",
    "\n",
    "* Например: a = 2, b = 3.\n",
    "* Результат:\n",
    "    1-й день: 2\n",
    "    2-й день: 2,2\n",
    "    3-й день: 2,42\n",
    "    4-й день: 2,66\n",
    "    5-й день: 2,93\n",
    "    6-й день: 3,22\n",
    "* Ответ: на шестой день спортсмен достиг результата — не менее 3 км."
   ]
  },
  {
   "cell_type": "markdown",
   "id": "8119db56-5d01-4780-bb92-c6636ac5eca6",
   "metadata": {},
   "source": [
    "Задача 1"
   ]
  },
  {
   "cell_type": "code",
   "execution_count": 1,
   "id": "b7331037-8b25-474d-bea2-0badc2722cb9",
   "metadata": {},
   "outputs": [
    {
     "data": {
      "text/plain": [
       "(5, 6, 7)"
      ]
     },
     "execution_count": 1,
     "metadata": {},
     "output_type": "execute_result"
    }
   ],
   "source": [
    "# 1 переменная\n",
    "x = 5\n",
    "y = 6\n",
    "z = 7\n",
    "# вывод на экран\n",
    "x,y,z"
   ]
  },
  {
   "cell_type": "code",
   "execution_count": 2,
   "id": "7501a392-46e3-4377-b6cf-4fa99b1e926b",
   "metadata": {},
   "outputs": [
    {
     "name": "stdin",
     "output_type": "stream",
     "text": [
      "Введите строку для вывода на экран:  Hi there!\n",
      "Введите число для вывода на экран:  987\n"
     ]
    },
    {
     "name": "stdout",
     "output_type": "stream",
     "text": [
      "Была введена строка Hi there!\n",
      "Была введено число 987\n"
     ]
    }
   ],
   "source": [
    "# запрос строки у пользователя\n",
    "string = input('Введите строку для вывода на экран: ')\n",
    "variable = int(input('Введите число для вывода на экран: '))\n",
    "\n",
    "print(f'Была введена строка {string}')\n",
    "print(f'Была введено число {variable}')"
   ]
  },
  {
   "cell_type": "markdown",
   "id": "8b8e0842-ddec-4867-a3ac-f4ac0910df08",
   "metadata": {},
   "source": [
    "---\n",
    "Задача 2"
   ]
  },
  {
   "cell_type": "code",
   "execution_count": 3,
   "id": "5739121f-8ed8-4a01-a84c-3ebf87f3e9b8",
   "metadata": {},
   "outputs": [
    {
     "name": "stdin",
     "output_type": "stream",
     "text": [
      "Введите время в секундах:  36125\n"
     ]
    },
    {
     "name": "stdout",
     "output_type": "stream",
     "text": [
      "10:02:05\n"
     ]
    }
   ],
   "source": [
    "time = int(input('Введите время в секундах: '))\n",
    "string = str(time)\n",
    "hours = time // 3600\n",
    "time = time % 3600\n",
    "minutes = time // 60\n",
    "time = time % 60\n",
    "seconds = time\n",
    "print(\"%02d\" % (hours),':',\"%02d\" % (minutes),':',\"%02d\" % (seconds),sep = '')"
   ]
  },
  {
   "cell_type": "code",
   "execution_count": 4,
   "id": "fb319159-aa38-441b-ae60-c1676c1af5b5",
   "metadata": {},
   "outputs": [
    {
     "name": "stdin",
     "output_type": "stream",
     "text": [
      "Введите время в секундах:  36125\n"
     ]
    },
    {
     "name": "stdout",
     "output_type": "stream",
     "text": [
      "10:02:05\n"
     ]
    }
   ],
   "source": [
    "time = int(input('Введите время в секундах: '))\n",
    "string = str(time)\n",
    "hours = time // 3600\n",
    "time = time % 3600\n",
    "minutes = time // 60\n",
    "time = time % 60\n",
    "seconds = time\n",
    "print(f'{hours:02}:{minutes:02}:{seconds:02}')"
   ]
  },
  {
   "cell_type": "markdown",
   "id": "dc19fae5-a521-4c37-bb1d-48790c30044b",
   "metadata": {},
   "source": [
    "Задача 3"
   ]
  },
  {
   "cell_type": "code",
   "execution_count": 5,
   "id": "6d5a524d-c747-4d82-b22a-86edade66362",
   "metadata": {},
   "outputs": [
    {
     "name": "stdin",
     "output_type": "stream",
     "text": [
      "Введите число:  123654\n"
     ]
    },
    {
     "name": "stdout",
     "output_type": "stream",
     "text": [
      "123654+123654123654+123654123654123654 = 123654247308370962\n"
     ]
    }
   ],
   "source": [
    "number = input('Введите число: ')\n",
    "number_1 = int(number)\n",
    "number_2 = int(number+number)\n",
    "number_3 = int(number+number+number)\n",
    "print(f'{number_1}+{number_2}+{number_3} = {number_1+number_2+number_3}')"
   ]
  },
  {
   "cell_type": "markdown",
   "id": "3eb1ae1d-dfbb-4c13-a043-fdbf28c46ae0",
   "metadata": {},
   "source": [
    "Задача 4"
   ]
  },
  {
   "cell_type": "code",
   "execution_count": 6,
   "id": "251e1ea2-507a-4aa3-9780-cdebcddc013e",
   "metadata": {},
   "outputs": [
    {
     "name": "stdin",
     "output_type": "stream",
     "text": [
      "Введите число:  789465413\n"
     ]
    },
    {
     "name": "stdout",
     "output_type": "stream",
     "text": [
      "Максимальная цифра в введенном числе = 9\n"
     ]
    }
   ],
   "source": [
    "number = input('Введите число: ')\n",
    "max_number = 0\n",
    "i = 0\n",
    "while i<len(number):\n",
    "    if int(str(number)[i])>max_number:\n",
    "        max_number = int(str(number)[i])\n",
    "    i+=1\n",
    "\n",
    "    \n",
    "# number = input('Введите число: ')\n",
    "# max_number = 0\n",
    "# for i in str(number):\n",
    "#     if int(i)>max_number:\n",
    "#         max_number = int(i)\n",
    "        \n",
    "print(f'Максимальная цифра в введенном числе = {max_number}')"
   ]
  },
  {
   "cell_type": "markdown",
   "id": "8ac7571c-e891-4d17-ac23-be5f9e2e503a",
   "metadata": {},
   "source": [
    "Задача 5"
   ]
  },
  {
   "cell_type": "code",
   "execution_count": 7,
   "id": "e0095bd1-8689-421c-88aa-5b049b4edf5d",
   "metadata": {},
   "outputs": [
    {
     "name": "stdin",
     "output_type": "stream",
     "text": [
      "Укажите расходы:  123\n",
      "Укажите доходы:  321\n"
     ]
    },
    {
     "name": "stdout",
     "output_type": "stream",
     "text": [
      "Доходы компании составили $198\n"
     ]
    }
   ],
   "source": [
    "expenses = None\n",
    "income = None\n",
    "while not expenses or not income:\n",
    "    expenses = input('Укажите расходы: ')\n",
    "    income = input('Укажите доходы: ')\n",
    "    try:\n",
    "        expenses = int(expenses)\n",
    "        income = int(income)\n",
    "    except Exception:\n",
    "        expenses = None\n",
    "        income = None\n",
    "        print('Попробуйте еще раз. Используйте только цифры!')\n",
    "\n",
    "print(f'Убытки компании составили ${expenses - income}' if expenses > income else f'Доходы компании составили ${income - expenses}')"
   ]
  },
  {
   "cell_type": "markdown",
   "id": "3cc5f0ba-8f8c-4107-a1dd-31c948289c30",
   "metadata": {},
   "source": [
    "Задача 6"
   ]
  },
  {
   "cell_type": "code",
   "execution_count": 8,
   "id": "35491acd-cf9c-422d-a96f-6ed56e5c12b5",
   "metadata": {},
   "outputs": [
    {
     "name": "stdout",
     "output_type": "stream",
     "text": [
      "Рентабельность = 2.61\n"
     ]
    },
    {
     "name": "stdin",
     "output_type": "stream",
     "text": [
      "Укажите количество сотрудников:  20\n"
     ]
    },
    {
     "name": "stdout",
     "output_type": "stream",
     "text": [
      "Прибыль на каждого сотрудника составила 9.9\n"
     ]
    }
   ],
   "source": [
    "if expenses < income:\n",
    "    print(f'Рентабельность = {round(income/expenses,2)}')\n",
    "    empl_number = None\n",
    "    while not empl_number:\n",
    "        try:\n",
    "            empl_number = int(input('Укажите количество сотрудников: '))\n",
    "        except Exception:\n",
    "            empl_number = None\n",
    "    print(f'Прибыль на каждого сотрудника составила {(income-expenses)/empl_number}')"
   ]
  },
  {
   "cell_type": "markdown",
   "id": "cae77679-8d89-45bc-839e-ecf32d117df2",
   "metadata": {},
   "source": [
    "Задача 7"
   ]
  },
  {
   "cell_type": "code",
   "execution_count": 9,
   "id": "b28d773e-a37e-479e-8ebc-5a877e0ca482",
   "metadata": {},
   "outputs": [
    {
     "name": "stdin",
     "output_type": "stream",
     "text": [
      "Укажите начальную дистанцию:  20\n",
      "Укажите начальную дистанцию:  30\n"
     ]
    },
    {
     "name": "stdout",
     "output_type": "stream",
     "text": [
      "На 5 будет достигнута цель в 30: дистанция составит 32.21\n"
     ]
    }
   ],
   "source": [
    "start_distance = None\n",
    "end_distance = None\n",
    "day = 0\n",
    "while not start_distance or not end_distance:\n",
    "    start_distance = input('Укажите начальную дистанцию: ')\n",
    "    end_distance = input('Укажите начальную дистанцию: ')\n",
    "    try:\n",
    "        start_distance = int(start_distance)\n",
    "        end_distance = int(end_distance)\n",
    "    except Exception:\n",
    "        start_distance = None\n",
    "        end_distance = None\n",
    "while start_distance <= end_distance:\n",
    "    start_distance += start_distance * 0.1\n",
    "    day+=1\n",
    "\n",
    "print(f'На {day} будет достигнута цель в {end_distance}: дистанция составит {start_distance:.2f}')"
   ]
  },
  {
   "cell_type": "code",
   "execution_count": null,
   "id": "dd30f5ef-6221-4369-8860-b0834134f64e",
   "metadata": {},
   "outputs": [],
   "source": []
  }
 ],
 "metadata": {
  "kernelspec": {
   "display_name": "Python 3 (ipykernel)",
   "language": "python",
   "name": "python3"
  },
  "language_info": {
   "codemirror_mode": {
    "name": "ipython",
    "version": 3
   },
   "file_extension": ".py",
   "mimetype": "text/x-python",
   "name": "python",
   "nbconvert_exporter": "python",
   "pygments_lexer": "ipython3",
   "version": "3.9.7"
  }
 },
 "nbformat": 4,
 "nbformat_minor": 5
}
