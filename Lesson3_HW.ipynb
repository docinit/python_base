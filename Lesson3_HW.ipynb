{
 "cells": [
  {
   "cell_type": "markdown",
   "id": "40ae3a7a-0f99-4bc6-a457-1c19cdd442a7",
   "metadata": {},
   "source": [
    "1. Реализовать функцию, принимающую два числа (позиционные аргументы) и выполняющую их деление. Числа запрашивать у пользователя, предусмотреть обработку ситуации деления на ноль.\n",
    "2. Выполнить функцию, которая принимает несколько параметров, описывающих данные пользователя: имя, фамилия, год рождения, город проживания, email, телефон. Функция должна принимать параметры как именованные аргументы. Осуществить вывод данных о пользователе одной строкой.\n",
    "3. Реализовать функцию my_func(), которая принимает три позиционных аргумента и возвращает сумму наибольших двух аргументов.\n",
    "4. Программа принимает действительное положительное число x и целое отрицательное число y. Выполните возведение числа x в степень y. Задание реализуйте в виде функции my_func(x, y). При решении задания нужно обойтись без встроенной функции возведения числа в степень.<br>Подсказка: попробуйте решить задачу двумя способами. Первый — возведение в степень с помощью оператора **. Второй — более сложная реализация без оператора **, предусматривающая использование цикла.\n",
    "\n",
    "5. Программа запрашивает у пользователя строку чисел, разделённых пробелом. При нажатии Enter должна выводиться сумма чисел. Пользователь может продолжить ввод чисел, разделённых пробелом и снова нажать Enter. Сумма вновь введённых чисел будет добавляться к уже подсчитанной сумме.<br>Но если вместо числа вводится специальный символ, выполнение программы завершается. Если специальный символ введён после нескольких чисел, то вначале нужно добавить сумму этих чисел к полученной ранее сумме и после этого завершить программу.\n",
    "\n",
    "6. Реализовать функцию int_func(), принимающую слова из маленьких латинских букв и возвращающую их же, но с прописной первой буквой. Например, print(int_func(‘text’)) -> Text.\n",
    "\n",
    "7. Продолжить работу над заданием. В программу должна попадать строка из слов, разделённых пробелом. Каждое слово состоит из латинских букв в нижнем регистре. Нужно сделать вывод исходной строки, но каждое слово должно начинаться с заглавной буквы. Используйте написанную ранее функцию int_func()."
   ]
  },
  {
   "cell_type": "markdown",
   "id": "53f4d49b-4dcf-4db4-95b6-723e3fafa653",
   "metadata": {},
   "source": [
    "# Задача 1"
   ]
  },
  {
   "cell_type": "markdown",
   "id": "aef35cbd-9a58-4333-9ad4-49f16262f6f8",
   "metadata": {},
   "source": [
    "* 1 вариант - с позиционными аргументами"
   ]
  },
  {
   "cell_type": "code",
   "execution_count": 1,
   "id": "4c916a9c-959d-454a-8bdf-dea31de77020",
   "metadata": {},
   "outputs": [
    {
     "name": "stdout",
     "output_type": "stream",
     "text": [
      "\n",
      "Данная программа производит деление 2 чисел (делимого на делитель)\n",
      "и выводит результат (частное) на экран.\n",
      "Если же пользователь попробует поделить на ноль,\n",
      "программа просто попрощается - и закончит работу.\n",
      "\n"
     ]
    },
    {
     "name": "stdin",
     "output_type": "stream",
     "text": [
      "Введите первое число (делимое):  5\n",
      "Введите второе число (делитель):  0\n"
     ]
    },
    {
     "name": "stdout",
     "output_type": "stream",
     "text": [
      "Нет, на ноль я делить не умею... До встречи в следующий раз!\n"
     ]
    }
   ],
   "source": [
    "def divide_two_numbers(x,y):\n",
    "    if y!=0:\n",
    "        x = int(x) if x%int(x)==0 else x\n",
    "        y = int(y) if y%int(y)==0 else y\n",
    "        return print(f'{x}/{y} = {x/y}')\n",
    "    else:\n",
    "        return print('Нет, на ноль я делить не умею... До встречи в следующий раз!')\n",
    "\n",
    "\n",
    "print('''\n",
    "Данная программа производит деление 2 чисел (делимого на делитель)\n",
    "и выводит результат (частное) на экран.\n",
    "Если же пользователь попробует поделить на ноль,\n",
    "программа просто попрощается - и закончит работу.\n",
    "''')\n",
    "\n",
    "divide_two_numbers(float(input('Введите первое число (делимое): ')),float(input('Введите второе число (делитель): ')))"
   ]
  },
  {
   "cell_type": "markdown",
   "id": "756df14c-4477-4398-9613-a997c581a993",
   "metadata": {},
   "source": [
    "##### * 2 вариант - функция с именованными параметрами"
   ]
  },
  {
   "cell_type": "code",
   "execution_count": 2,
   "id": "3222bfd4-a4e5-4f7b-ab81-5a60f83ad629",
   "metadata": {},
   "outputs": [
    {
     "name": "stdout",
     "output_type": "stream",
     "text": [
      "\n",
      "Данная программа производит деление 2 чисел (делимого на делитель)\n",
      "и выводит результат (частное) на экран.\n",
      "При этом предусмотрено то, что на ноль делить нельзя - программа\n",
      "в этом случае один раз попросит\n",
      "пользователя попробовать еще раз, т.е. ввести числа повторно.\n",
      "Если же пользователь попробует еще раз поделить на ноль,\n",
      "программа просто попрощается - и закончит работу.\n",
      "\n"
     ]
    },
    {
     "name": "stdin",
     "output_type": "stream",
     "text": [
      "Введите первое число (делимое):  5 \n",
      "Введите второе число (делитель):  0\n"
     ]
    },
    {
     "name": "stdout",
     "output_type": "stream",
     "text": [
      "На ноль же делить нельзя! Попробуйте еще раз!\n"
     ]
    },
    {
     "name": "stdin",
     "output_type": "stream",
     "text": [
      "Введите первое число (делимое):  5\n",
      "Введите второе число (делитель):  6\n"
     ]
    },
    {
     "name": "stdout",
     "output_type": "stream",
     "text": [
      "5/6 = 0.8333333333333334\n"
     ]
    }
   ],
   "source": [
    "def divide_two_numbers(x,y,i):\n",
    "    if y!=0:\n",
    "        x = int(x) if x%int(x)==0 else x\n",
    "        y = int(y) if y%int(y)==0 else y\n",
    "        return print(f'{x}/{y} = {x/y}')\n",
    "    elif not i:\n",
    "        i=1\n",
    "        print('На ноль же делить нельзя! Попробуйте еще раз!')\n",
    "        x,y = input_values()\n",
    "        divide_two_numbers(x,y,i)\n",
    "    else:\n",
    "        return print('Нет, на ноль я делить не умею... До встречи в следующий раз!')\n",
    "def input_values():\n",
    "    x = float(input('Введите первое число (делимое): '))\n",
    "    y = float(input('Введите второе число (делитель): '))\n",
    "    return x,y\n",
    "\n",
    "\n",
    "print('''\n",
    "Данная программа производит деление 2 чисел (делимого на делитель)\n",
    "и выводит результат (частное) на экран.\n",
    "При этом предусмотрено то, что на ноль делить нельзя - программа\n",
    "в этом случае один раз попросит\n",
    "пользователя попробовать еще раз, т.е. ввести числа повторно.\n",
    "Если же пользователь попробует еще раз поделить на ноль,\n",
    "программа просто попрощается - и закончит работу.\n",
    "''')\n",
    "\n",
    "i = None\n",
    "x,y = input_values()\n",
    "divide_two_numbers(x,y,i)"
   ]
  },
  {
   "cell_type": "markdown",
   "id": "8e351a32-3e28-49b5-97e6-99ab23498f13",
   "metadata": {},
   "source": [
    "# Задача 2"
   ]
  },
  {
   "cell_type": "code",
   "execution_count": 3,
   "id": "e64dcdf5-818f-443c-a863-54da3faaa27f",
   "metadata": {},
   "outputs": [
    {
     "name": "stdin",
     "output_type": "stream",
     "text": [
      "Назовите свое имя:  Андрей\n",
      "Назовите свою фамилию:  Липин\n",
      "Укажите свой год рождения:  1983\n",
      "Укажите город проживания:  Санкт-Петербург\n",
      "Укажите свой email:  электронный\n",
      "И последнее: сообщите свой номер телефона:  5\n"
     ]
    },
    {
     "name": "stdout",
     "output_type": "stream",
     "text": [
      "Новый пользователь: Андрей,Липин,1983,Санкт-Петербург,электронный,5\n"
     ]
    }
   ],
   "source": [
    "def personal_data(name,surname,year_of_birth,city,email,phone_number):\n",
    "    return print(f'Новый пользователь: {name},{surname},{year_of_birth},{city},{email},{phone_number}')\n",
    "\n",
    "\n",
    "\n",
    "name = input('Назовите свое имя: ')\n",
    "surname = input('Назовите свою фамилию: ')\n",
    "year_of_birth = input('Укажите свой год рождения: ')\n",
    "city = input('Укажите город проживания: ')\n",
    "email = input('Укажите свой email: ')\n",
    "phone_number = input('И последнее: сообщите свой номер телефона: ')\n",
    "personal_data(name,surname,year_of_birth,city,email,phone_number)"
   ]
  },
  {
   "cell_type": "markdown",
   "id": "8add35be-2cbf-463d-9de2-fbd20aad462f",
   "metadata": {},
   "source": [
    "# Задача 3"
   ]
  },
  {
   "cell_type": "code",
   "execution_count": 4,
   "id": "1ac3fb82-1ab8-4c7f-99fa-692c2fe82e93",
   "metadata": {},
   "outputs": [
    {
     "name": "stdin",
     "output_type": "stream",
     "text": [
      "Введите первое число:  9\n",
      "Введите второе число:  4\n",
      "Введите третье число:  1\n"
     ]
    },
    {
     "name": "stdout",
     "output_type": "stream",
     "text": [
      "Вычисляется сумма двух наибольших чисел: 4.0+9.0 = 13.0\n"
     ]
    }
   ],
   "source": [
    "def my_func(x,y,z):\n",
    "    if x<y and x<z:\n",
    "        return print(f'Вычисляется сумма двух наибольших чисел: {y}+{z} = {y+z}')\n",
    "    elif y<z:\n",
    "        return print(f'Вычисляется сумма двух наибольших чисел: {x}+{z} = {x+z}')\n",
    "    else:\n",
    "        return print(f'Вычисляется сумма двух наибольших чисел: {y}+{x} = {y+x}')\n",
    "    \n",
    "x = float(input('Введите первое число: '))\n",
    "y = float(input('Введите второе число: '))\n",
    "z = float(input('Введите третье число: '))\n",
    "\n",
    "my_func(x,y,z)"
   ]
  },
  {
   "cell_type": "markdown",
   "id": "47305d47-afbc-4ff7-868d-06233892cfd9",
   "metadata": {},
   "source": [
    "# Задача 4"
   ]
  },
  {
   "cell_type": "code",
   "execution_count": 5,
   "id": "1863f115-3ef9-4911-9fd8-f216d9dbc331",
   "metadata": {},
   "outputs": [
    {
     "name": "stdin",
     "output_type": "stream",
     "text": [
      "Введите целое положительное число:  16\n",
      "Введите целое отрицательное число:  -50\n"
     ]
    },
    {
     "name": "stdout",
     "output_type": "stream",
     "text": [
      "16 в степени -50 = 6.223015277861142e-61\n"
     ]
    }
   ],
   "source": [
    "x = int(input('Введите целое положительное число: '))\n",
    "y = int(input('Введите целое отрицательное число: '))\n",
    "\n",
    "print(f'{x} в степени {y} = {x**y}')"
   ]
  },
  {
   "cell_type": "code",
   "execution_count": 6,
   "id": "1ffcb23a-66eb-4b7e-b201-a128e9bd62a2",
   "metadata": {},
   "outputs": [
    {
     "name": "stdout",
     "output_type": "stream",
     "text": [
      "16 в степени -50 = 6.223015277861142e-61\n"
     ]
    }
   ],
   "source": [
    "x_ = [x]*abs(y)\n",
    "result = x\n",
    "for i in range(1,len(x_)):\n",
    "    result *= x_[i]\n",
    "result = 1/result\n",
    "print(f'{x} в степени {y} = {result}')"
   ]
  },
  {
   "cell_type": "markdown",
   "id": "bd8714df-73cd-4ff2-bdc7-a039c1daf17b",
   "metadata": {},
   "source": [
    "# Задача 5"
   ]
  },
  {
   "cell_type": "code",
   "execution_count": 7,
   "id": "6c76620b-6703-4f0d-a483-c5dee725cf9f",
   "metadata": {},
   "outputs": [
    {
     "name": "stdout",
     "output_type": "stream",
     "text": [
      "\n",
      "Введите список чисел, разделенных пробелом;\n",
      "программа выполнит сложение введеных чисел - и выведет результат на экран;\n",
      "Если после этого суммы ввести новые значения, то их сумма\n",
      "будет добавлена к предыдущему вычислению.\n",
      "Если вы хотите закончить работу программы,\n",
      "в конце списка или при очередном вводе просто укажите знак \"&\" или любую букву.\n",
      "Приятной работы!)\n",
      "\n"
     ]
    },
    {
     "name": "stdin",
     "output_type": "stream",
     "text": [
      "Введите список чисел, разделенных пробелом:  5 0 6 4 78\n"
     ]
    },
    {
     "name": "stdout",
     "output_type": "stream",
     "text": [
      "Сумма всех введенных значений =  93.0\n"
     ]
    },
    {
     "name": "stdin",
     "output_type": "stream",
     "text": [
      "Введите список чисел, разделенных пробелом:  6 7 8 9в\n"
     ]
    },
    {
     "name": "stdout",
     "output_type": "stream",
     "text": [
      "Сумма всех введенных значений =  114.0 \n",
      "Работа программы завершена.\n"
     ]
    }
   ],
   "source": [
    "print('''\n",
    "Введите список чисел, разделенных пробелом;\n",
    "программа выполнит сложение введеных чисел - и выведет результат на экран;\n",
    "Если после этого суммы ввести новые значения, то их сумма\n",
    "будет добавлена к предыдущему вычислению.\n",
    "Если вы хотите закончить работу программы,\n",
    "в конце списка или при очередном вводе просто укажите знак \"&\" или любую букву.\n",
    "Приятной работы!)\n",
    "''')\n",
    "\n",
    "def list_summatize():\n",
    "    check = None\n",
    "    summa = 0\n",
    "    while not check:\n",
    "        number_list = [float(x) if '&' not in x and sum([i.isalpha() for i in x])==0 else '&' for x in input('Введите список чисел, разделенных пробелом: ').strip().split(' ')]\n",
    "        if '&' in number_list:\n",
    "            check_index = number_list.index('&')\n",
    "            summa += sum(number_list[:check_index])\n",
    "            check = 1\n",
    "        else:\n",
    "            summa += sum(number_list)\n",
    "            print('Сумма всех введенных значений = ',summa)\n",
    "    return summa\n",
    "    \n",
    "summa = list_summatize()\n",
    "print('Сумма всех введенных значений = ',summa,'\\nРабота программы завершена.')"
   ]
  },
  {
   "cell_type": "markdown",
   "id": "e2f2966d-e1d1-4d37-babf-4d257b47fec6",
   "metadata": {},
   "source": [
    "# Задача 6"
   ]
  },
  {
   "cell_type": "code",
   "execution_count": 8,
   "id": "4c1bd6ba-61b7-4ff2-8da6-d57abf11321a",
   "metadata": {},
   "outputs": [
    {
     "name": "stdin",
     "output_type": "stream",
     "text": [
      "Введите фразу латинскими буквами:  ab altero expectes, alteri quod feceris\n"
     ]
    },
    {
     "name": "stdout",
     "output_type": "stream",
     "text": [
      "Ab altero expectes, alteri quod feceris "
     ]
    }
   ],
   "source": [
    "def int_func(string):\n",
    "    string = string.capitalize()\n",
    "    print(string,end=' ')\n",
    "string = input('Введите фразу латинскими буквами: ')\n",
    "if sum([i.isascii() for i in string.split()])==len(string.split()):\n",
    "    int_func(string)\n",
    "else:\n",
    "    print('Попробуйте повторить: похоже, что вы использовали не только латинские буквы и/или цифры.')"
   ]
  },
  {
   "cell_type": "markdown",
   "id": "904bd15d-b714-4113-b40e-f9d3b2126a0e",
   "metadata": {},
   "source": [
    "# Задача 7"
   ]
  },
  {
   "cell_type": "code",
   "execution_count": 9,
   "id": "3be5bede-9d19-4fa6-a2a2-422225994c4b",
   "metadata": {},
   "outputs": [
    {
     "name": "stdin",
     "output_type": "stream",
     "text": [
      "Введите фразу латинскими буквами:  ab altero expectes, alteri quod feceris\n"
     ]
    },
    {
     "name": "stdout",
     "output_type": "stream",
     "text": [
      "Ab Altero Expectes, Alteri Quod Feceris "
     ]
    }
   ],
   "source": [
    "string = input('Введите фразу латинскими буквами: ')\n",
    "if sum([i.isascii() for i in string.split()])==len(string.split()):\n",
    "    [int_func(i) for i in string.split()]\n",
    "else:\n",
    "    print('Попробуйте повторить: похоже, что вы использовали не только латинские буквы и/или цифры.')"
   ]
  },
  {
   "cell_type": "code",
   "execution_count": null,
   "id": "97ea2561-8ee3-4017-9ab3-682734f6d54e",
   "metadata": {},
   "outputs": [],
   "source": []
  }
 ],
 "metadata": {
  "kernelspec": {
   "display_name": "Python 3 (ipykernel)",
   "language": "python",
   "name": "python3"
  },
  "language_info": {
   "codemirror_mode": {
    "name": "ipython",
    "version": 3
   },
   "file_extension": ".py",
   "mimetype": "text/x-python",
   "name": "python",
   "nbconvert_exporter": "python",
   "pygments_lexer": "ipython3",
   "version": "3.9.7"
  }
 },
 "nbformat": 4,
 "nbformat_minor": 5
}
