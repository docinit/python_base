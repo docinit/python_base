{
 "cells": [
  {
   "cell_type": "markdown",
   "id": "f3fc339b-4cc7-44e1-b5a7-dfc44e3badfb",
   "metadata": {},
   "source": [
    "1. Создать класс TrafficLight (светофор).\n",
    "\n",
    "    * определить у него один атрибут color (цвет) и метод running (запуск);\n",
    "    * атрибут реализовать как приватный;\n",
    "    * в рамках метода реализовать переключение светофора в режимы: красный, жёлтый, зелёный;\n",
    "    * продолжительность первого состояния (красный) составляет 7 секунд, второго (жёлтый) — 2 секунды, третьего (зелёный) — на ваше усмотрение;\n",
    "    * переключение между режимами должно осуществляться только в указанном порядке (красный, жёлтый, зелёный);\n",
    "    * проверить работу примера, создав экземпляр и вызвав описанный метод.\n",
    "\n",
    "    Задачу можно усложнить, реализовав проверку порядка режимов. При его нарушении выводить соответствующее сообщение и завершать скрипт.\n",
    "    \n",
    "2. Реализовать класс Road (дорога).\n",
    "\n",
    "    * определить атрибуты: length (длина), width (ширина);\n",
    "    * значения атрибутов должны передаваться при создании экземпляра класса;\n",
    "    * атрибуты сделать защищёнными;\n",
    "    * определить метод расчёта массы асфальта, необходимого для покрытия всей дороги;\n",
    "    * использовать формулу: длина\\*ширина\\*масса асфальта для покрытия одного кв. метра дороги асфальтом, толщиной в 1 см*число см толщины полотна;\n",
    "    * проверить работу метода.\n",
    "\n",
    "    Например: 20 м*5000 м*25 кг*5 см = 12500 т.\n",
    "\n",
    "3. Реализовать базовый класс Worker (работник).\n",
    "\n",
    "    * определить атрибуты: name, surname, position (должность), income (доход);\n",
    "    * последний атрибут должен быть защищённым и ссылаться на словарь, содержащий элементы: оклад и премия, например, {\"wage\": wage, \"bonus\": bonus};\n",
    "    * создать класс Position (должность) на базе класса Worker;\n",
    "    * в классе Position реализовать методы получения полного имени сотрудника (get_full_name) и дохода с учётом премии (get_total_income);\n",
    "    * проверить работу примера на реальных данных: создать экземпляры класса Position, передать данные, проверить значения атрибутов, вызвать методы экземпляров.\n",
    "\n",
    "4. Реализуйте базовый класс Car.\n",
    "\n",
    "    * у класса должны быть следующие атрибуты: speed, color, name, is_police (булево). А также методы: go, stop, turn(direction), которые должны сообщать, что машина поехала, остановилась, повернула (куда);\n",
    "    * опишите несколько дочерних классов: TownCar, SportCar, WorkCar, PoliceCar;\n",
    "    * добавьте в базовый класс метод show_speed, который должен показывать текущую скорость автомобиля;\n",
    "    * для классов TownCar и WorkCar переопределите метод show_speed. При значении скорости свыше 60 (TownCar) и 40 (WorkCar) должно выводиться сообщение о превышении скорости.\n",
    "\n",
    "    Создайте экземпляры классов, передайте значения атрибутов. Выполните доступ к атрибутам, выведите результат. Вызовите методы и покажите результат.\n",
    "    \n",
    "5. Реализовать класс Stationery (канцелярская принадлежность).\n",
    "\n",
    "    * определить в нём атрибут title (название) и метод draw (отрисовка). Метод выводит сообщение «Запуск отрисовки»;\n",
    "    * создать три дочерних класса Pen (ручка), Pencil (карандаш), Handle (маркер);\n",
    "    * в каждом классе реализовать переопределение метода draw. Для каждого класса метод должен выводить уникальное сообщение;\n",
    "    * создать экземпляры классов и проверить, что выведет описанный метод для каждого экземпляра.\n"
   ]
  },
  {
   "cell_type": "markdown",
   "id": "fcef69bc-ff45-45ec-81a2-6891e6d0aae2",
   "metadata": {},
   "source": [
    "# Задача 1"
   ]
  },
  {
   "cell_type": "code",
   "execution_count": 111,
   "id": "4b866999-74de-440e-a98c-eb4710aad0ed",
   "metadata": {},
   "outputs": [
    {
     "name": "stdin",
     "output_type": "stream",
     "text": [
      "Укажите количество циклов работы светофора:  5\n"
     ]
    },
    {
     "name": "stdout",
     "output_type": "stream",
     "text": [
      " green \n",
      "Работа программы завершена.\n"
     ]
    }
   ],
   "source": [
    "import time\n",
    "class TrafficLight:\n",
    "    proceed = 'Y'\n",
    "    def running(self,n=10):\n",
    "        __colors = ('red   ','yellow','green ')\n",
    "        i=0\n",
    "        while n>0:\n",
    "            __color = __colors[i]\n",
    "            print('\\r',__color,flush=True,end='')\n",
    "            if 'red' in __color:\n",
    "                time.sleep(7)\n",
    "            elif 'yellow' in __color:\n",
    "                time.sleep(2)\n",
    "            else:\n",
    "                time.sleep(3)\n",
    "                n-=1\n",
    "            i = i + 1 if i!=2 else 0\n",
    "        return print('\\nРабота программы завершена.')\n",
    "            \n",
    "a = TrafficLight()\n",
    "n = int(input('Укажите количество циклов работы светофора: '))\n",
    "a.running(n)"
   ]
  },
  {
   "cell_type": "markdown",
   "id": "12189428-843b-4326-9f3d-2abf5984e617",
   "metadata": {},
   "source": [
    "# Задача 2"
   ]
  },
  {
   "cell_type": "code",
   "execution_count": 112,
   "id": "5e0dd7c3-acc4-4142-bc97-0b5d2dcf520c",
   "metadata": {},
   "outputs": [
    {
     "name": "stdin",
     "output_type": "stream",
     "text": [
      "Укажите массу вашей марки асфальта площадью 1 квадратный метр при толщине 1см:  25\n",
      "Укажите проектную толщину асфальтового слоя в сантиметрах:  5\n",
      "Укажите длину дороги:  5000\n",
      "Укажите ширину дороги:  20\n"
     ]
    },
    {
     "name": "stdout",
     "output_type": "stream",
     "text": [
      "12500000\n"
     ]
    }
   ],
   "source": [
    "class Road:\n",
    "    def weight_asphalt(self,weight,thickness,length,width):\n",
    "        _length = length\n",
    "        _width = width\n",
    "        total_weight = weight * thickness * _length * _width\n",
    "        return total_weight\n",
    "\n",
    "weight = int(input('Укажите массу вашей марки асфальта площадью 1 квадратный метр при толщине 1см: '))\n",
    "thickness = int(input('Укажите проектную толщину асфальтового слоя в сантиметрах: '))\n",
    "length = int(input('Укажите длину дороги: '))\n",
    "width = int(input('Укажите ширину дороги: '))\n",
    "project = Road()\n",
    "total_weight = project.weight_asphalt(weight,thickness,length,width)\n",
    "print(total_weight)"
   ]
  },
  {
   "cell_type": "markdown",
   "id": "04bf90d4-a0d6-4c9b-92ae-4a53b12cdc4b",
   "metadata": {},
   "source": [
    "# Задача 3"
   ]
  },
  {
   "cell_type": "markdown",
   "id": "43ed8573-6612-485a-9643-de283ed9865e",
   "metadata": {},
   "source": [
    "1. Вариант (используются только переменные, сгенерированные в классе)"
   ]
  },
  {
   "cell_type": "code",
   "execution_count": 113,
   "id": "21bfddda-8e80-4d07-a88a-212c27ca97ab",
   "metadata": {},
   "outputs": [
    {
     "name": "stdin",
     "output_type": "stream",
     "text": [
      "Укажите имя сотрудника:  Петр\n",
      "Укажите фамилию сотрудника:  Иванов\n",
      "Укажите должность сотрудника:  админ\n",
      "Укажите оклад сотрудника:  150000\n",
      "Укажите премию сотрудника:  50000\n"
     ]
    },
    {
     "name": "stdout",
     "output_type": "stream",
     "text": [
      "Петр, Иванов 200000.0\n"
     ]
    }
   ],
   "source": [
    "class Worker:\n",
    "    def __init__(self):\n",
    "        self.name = input('Укажите имя сотрудника: ')\n",
    "        self.surname = input('Укажите фамилию сотрудника: ')\n",
    "        self.position = input('Укажите должность сотрудника: ')\n",
    "        self.wage = float(input('Укажите оклад сотрудника: '))\n",
    "        self.bonus = float(input('Укажите премию сотрудника: '))\n",
    "        self._income = {'income':self.wage,'bonus':self.bonus}\n",
    "\n",
    "class Position(Worker):\n",
    "    def __init__(self):\n",
    "        super().__init__()\n",
    "        self.get_full_name = self.name + ', ' + self.surname\n",
    "        self.get_total_income = self._income['income'] + self._income['bonus']\n",
    "\n",
    "\n",
    "employee = Position()\n",
    "income = employee._income\n",
    "print(employee.get_full_name,employee.get_total_income)"
   ]
  },
  {
   "cell_type": "markdown",
   "id": "0c94f983-65af-43cc-b706-d79477a00557",
   "metadata": {},
   "source": [
    "2. Варианты с внешней функцией (вне классов)"
   ]
  },
  {
   "cell_type": "code",
   "execution_count": 114,
   "id": "1f3ab0d9-7911-4155-80c5-2c38fb53f02f",
   "metadata": {},
   "outputs": [
    {
     "name": "stdin",
     "output_type": "stream",
     "text": [
      "Укажите имя сотрудника:  Петр\n",
      "Укажите фамилию сотрудника:  Иванов\n",
      "Укажите должность сотрудника:  админ\n",
      "Укажите оклад сотрудника:  150000\n",
      "Укажите премию сотрудника:  50000\n"
     ]
    },
    {
     "name": "stdout",
     "output_type": "stream",
     "text": [
      "Петр, Иванов 200000.0\n"
     ]
    }
   ],
   "source": [
    "def employee_data():\n",
    "    name = input('Укажите имя сотрудника: ')\n",
    "    surname = input('Укажите фамилию сотрудника: ')\n",
    "    position = input('Укажите должность сотрудника: ')\n",
    "    wage = float(input('Укажите оклад сотрудника: '))\n",
    "    bonus = float(input('Укажите премию сотрудника: '))\n",
    "    return name,surname,position,wage,bonus\n",
    "\n",
    "\n",
    "class Worker:\n",
    "    def __init__(self,name,surname,position,wage,bonus):\n",
    "        self._income = {'income':wage,'bonus':bonus}\n",
    "    \n",
    "    \n",
    "class Position(Worker):\n",
    "    def __init__(self):\n",
    "        super().__init__(self,name,surname,position,income)\n",
    "        self.get_full_name = name + ', ' + surname\n",
    "        self.get_total_income = income['income'] + income['bonus']\n",
    "\n",
    "\n",
    "name,surname,position,wage,bonus = employee_data()\n",
    "employee = Worker(name,surname,position,wage,bonus)\n",
    "income = employee._income\n",
    "person1 = Position()\n",
    "print(person1.get_full_name,person1.get_total_income)"
   ]
  },
  {
   "cell_type": "code",
   "execution_count": 115,
   "id": "d091e865-94eb-4990-9bb9-452e1364d3f9",
   "metadata": {},
   "outputs": [
    {
     "name": "stdin",
     "output_type": "stream",
     "text": [
      "Укажите имя сотрудника:  Петр\n",
      "Укажите фамилию сотрудника:  Сидоров\n",
      "Укажите должность сотрудника:  администратор\n",
      "Укажите оклад сотрудника:  200000\n",
      "Укажите премию сотрудника:  100000\n"
     ]
    },
    {
     "name": "stdout",
     "output_type": "stream",
     "text": [
      "Петр, Сидоров 300000.0\n"
     ]
    }
   ],
   "source": [
    "def employee_data():\n",
    "    name = input('Укажите имя сотрудника: ')\n",
    "    surname = input('Укажите фамилию сотрудника: ')\n",
    "    position = input('Укажите должность сотрудника: ')\n",
    "    wage = float(input('Укажите оклад сотрудника: '))\n",
    "    bonus = float(input('Укажите премию сотрудника: '))\n",
    "    return name,surname,position,wage,bonus\n",
    "\n",
    "\n",
    "class Worker:\n",
    "    def __init__(self):\n",
    "        x=employee_data()\n",
    "        self.name = x[0]\n",
    "        self.surname = x[1]\n",
    "        self.position = x[2]\n",
    "        self.wage = x[3]\n",
    "        self.bonus = x[4]\n",
    "        self._income = {'income':self.wage,'bonus':self.bonus}\n",
    "    \n",
    "    \n",
    "class Position(Worker):\n",
    "    def __init__(self):\n",
    "        super().__init__()\n",
    "        self.get_full_name = self.name + ', ' + self.surname\n",
    "        self.get_total_income = self._income['income'] + self._income['bonus']\n",
    "\n",
    "\n",
    "employee = Position()\n",
    "income = employee._income\n",
    "print(employee.get_full_name,employee.get_total_income)"
   ]
  },
  {
   "cell_type": "markdown",
   "id": "3d69f18f-911b-4aee-bef9-43ece9ab5a33",
   "metadata": {},
   "source": [
    "# Задача 4"
   ]
  },
  {
   "cell_type": "code",
   "execution_count": 116,
   "id": "ed88a302-169e-4388-a347-acf75a0e880e",
   "metadata": {},
   "outputs": [],
   "source": [
    "import random\n",
    "\n",
    "class Car():\n",
    "    def __init__(self):\n",
    "        self.speed=int(input('Укажите скорость машины: '))\n",
    "        self.color = input('Укажите цвет машины: ')\n",
    "        self.name = input('Укажите марку машины: ')\n",
    "        self.is_police = input('Введите \"Y\", если это полицейская машина: ')\n",
    "        self.is_police = True if self.is_police == 'Y' else False\n",
    "        self.direction = None\n",
    "        self.turn_direction = None\n",
    "        self.end = None\n",
    "        self.speed_limit = 120\n",
    "        self.sport_car = False\n",
    "        self.work_car = False\n",
    "    def go(self):\n",
    "        print(f'Машина {self.name} {self.color} цвета выехала на дорогу.\\nСкорость движения составляет {self.speed} km/h.')\n",
    "        if self.is_police:\n",
    "            print(f'Это полицейские, все нормально.')\n",
    "        else:\n",
    "            print(f'Это не полицейские, продолжаем наблюдение...')\n",
    "        if self.sport_car or self.work_car:\n",
    "            print('Наблюдаю запрещенный транспорт около в районе адмиистрации города. Будем разбираться.')\n",
    "            print('Произвожу задержание нарушетеля.')\n",
    "            self.direction = '1'\n",
    "        while not self.direction:\n",
    "            self.direction = input('Введите 1 для остановки; 2 для поворота направо; 3 для поворота налево; 4 для супер-ускорения: ')\n",
    "            if self.direction in ['1','2','3']:\n",
    "                pass\n",
    "            elif self.direction == '4':\n",
    "                self.direction = random.randint(self.speed_limit+1,250)\n",
    "            else:\n",
    "                self.direction = None            \n",
    "            \n",
    "    def stop(self):\n",
    "        if self.direction == '1':\n",
    "            self.speed = 0\n",
    "            print(f'Машина {self.name} {self.color} остановилась.')\n",
    "            if self.is_police:\n",
    "                print(f'Это полицейские, все нормально.')\n",
    "            else:\n",
    "                print(f'Это не полицейские, продолжаем наблюдение за районом...')\n",
    "            print('Игра завершена. Спасибо за игру!')\n",
    "            self.end = 1\n",
    "    def turn(self):\n",
    "        if not self.end:\n",
    "            if self.direction=='2':\n",
    "                self.turn_direction == 'направо'\n",
    "            elif self.direction=='3':\n",
    "                self.turn_direction == 'налево'\n",
    "            if self.turn_direction:\n",
    "                print(f'Машина {self.name} {self.color} совершила поворот {self.turn_direction}.\\n')\n",
    "                if self.is_police:\n",
    "                    print(f'Это полицейские, все нормально.')\n",
    "                else:\n",
    "                    print(f'Это не полицейские, следуем за ними...')\n",
    "    def show_speed(self):\n",
    "        if not self.end:\n",
    "            print(f'Машина {self.name} {self.color} продолжает движение со скоростью {self.speed} km/h.')\n",
    "            if self.is_police:\n",
    "                print(f'Это полицейские, все нормально.\\n')\n",
    "                print(f'Вижу потенциального нарушителя; преследую; текущая скорость {self.speed} km/h.')\n",
    "                self.speed = self.direction\n",
    "            else:\n",
    "                if int(self.direction)>self.speed_limit:\n",
    "                    self.speed = self.direction\n",
    "                    print(f'Машина пытается уйти от наблюдения - и ускорилась; текущая скорость {self.speed} km/h.\\nБудем производить задержание.')\n",
    "                if self.speed>self.speed_limit:\n",
    "                    print(f'Это не полицейские, сейчас разберемся...')\n",
    "                    print(f'Машина {self.name} {self.color}! Немедленно остановитесь!')\n",
    "                    print(f'Производим арест.')\n",
    "                    self.end = 1                \n",
    "                else:\n",
    "                    print(f'все в порядке...\\n')\n",
    "            self.direction = None\n",
    "                \n",
    "                \n",
    "        \n",
    "        \n",
    "class TownCar(Car):\n",
    "    def __init__(self):\n",
    "        super().__init__()\n",
    "        while not self.end:\n",
    "            super().go()\n",
    "            if not self.end:\n",
    "                super().stop()\n",
    "                super().turn()\n",
    "                super().show_speed()\n",
    "    \n",
    "class SportCar(Car):\n",
    "    def __init__(self):\n",
    "        super().__init__()\n",
    "        self.is_police = False\n",
    "        self.sport_car = True\n",
    "        while not self.end:\n",
    "            super().go()\n",
    "            if not self.end:\n",
    "                super().stop()\n",
    "                super().turn()\n",
    "                super().show_speed()\n",
    "\n",
    "class WorkCar(Car):\n",
    "    def __init__(self):\n",
    "        super().__init__()\n",
    "        self.is_police = False\n",
    "        self.work_car = True\n",
    "        while not self.end:\n",
    "            super().go()\n",
    "            if not self.end:\n",
    "                super().stop()\n",
    "                super().turn()\n",
    "                super().show_speed()\n",
    "        \n",
    "\n",
    "class PoliceCar(Car):\n",
    "    def __init__(self):\n",
    "        super().__init__()\n",
    "        self.is_police = True\n",
    "        while not self.end:\n",
    "            super().go()\n",
    "            if not self.end:\n",
    "                super().stop()\n",
    "                super().turn()\n",
    "                super().show_speed()\n",
    "            \n",
    "        \n"
   ]
  },
  {
   "cell_type": "code",
   "execution_count": 117,
   "id": "2c1bbff8-5726-46c7-90e2-a2ea9b7cbc41",
   "metadata": {},
   "outputs": [
    {
     "name": "stdin",
     "output_type": "stream",
     "text": [
      "Укажите скорость машины:  100\n",
      "Укажите цвет машины:  черная\n",
      "Укажите марку машины:  тойота\n",
      "Введите \"Y\", если это полицейская машина:  n\n"
     ]
    }
   ],
   "source": [
    "car = Car()"
   ]
  },
  {
   "cell_type": "code",
   "execution_count": 118,
   "id": "c72a231c-3add-42f4-ae81-32f50a0a5822",
   "metadata": {},
   "outputs": [
    {
     "name": "stdout",
     "output_type": "stream",
     "text": [
      "Машина тойота черная цвета выехала на дорогу.\n",
      "Скорость движения составляет 100 km/h.\n",
      "Это не полицейские, продолжаем наблюдение...\n"
     ]
    },
    {
     "name": "stdin",
     "output_type": "stream",
     "text": [
      "Введите 1 для остановки; 2 для поворота направо; 3 для поворота налево; 4 для супер-ускорения:  1\n"
     ]
    }
   ],
   "source": [
    "car.go()"
   ]
  },
  {
   "cell_type": "code",
   "execution_count": 119,
   "id": "89a7145d-41c6-4b76-aee9-c71c64003068",
   "metadata": {},
   "outputs": [],
   "source": [
    "car.turn()"
   ]
  },
  {
   "cell_type": "code",
   "execution_count": 120,
   "id": "dd88f76e-b88a-4b16-b196-9a5da0d8bd12",
   "metadata": {},
   "outputs": [
    {
     "name": "stdout",
     "output_type": "stream",
     "text": [
      "Машина тойота черная остановилась.\n",
      "Это не полицейские, продолжаем наблюдение за районом...\n",
      "Игра завершена. Спасибо за игру!\n"
     ]
    }
   ],
   "source": [
    "car.stop()"
   ]
  },
  {
   "cell_type": "code",
   "execution_count": 121,
   "id": "227e0cd6-5cc8-475e-874e-f42d9eafaef5",
   "metadata": {},
   "outputs": [],
   "source": [
    "car.show_speed()"
   ]
  },
  {
   "cell_type": "code",
   "execution_count": 122,
   "id": "4012bd92-d1bf-4f4d-944d-3043ab030955",
   "metadata": {},
   "outputs": [
    {
     "data": {
      "text/plain": [
       "0"
      ]
     },
     "execution_count": 122,
     "metadata": {},
     "output_type": "execute_result"
    }
   ],
   "source": [
    "car.speed"
   ]
  },
  {
   "cell_type": "code",
   "execution_count": 123,
   "id": "ed943b8b-2a6a-4043-9e19-e70a9c5afd18",
   "metadata": {},
   "outputs": [
    {
     "data": {
      "text/plain": [
       "120"
      ]
     },
     "execution_count": 123,
     "metadata": {},
     "output_type": "execute_result"
    }
   ],
   "source": [
    "car.speed_limit"
   ]
  },
  {
   "cell_type": "code",
   "execution_count": 124,
   "id": "faaf107b-7810-422b-acdc-b018f21235b6",
   "metadata": {},
   "outputs": [
    {
     "name": "stdin",
     "output_type": "stream",
     "text": [
      "Укажите скорость машины:  200\n",
      "Укажите цвет машины:  красная\n",
      "Укажите марку машины:  мерседес\n",
      "Введите \"Y\", если это полицейская машина:  Y\n"
     ]
    },
    {
     "name": "stdout",
     "output_type": "stream",
     "text": [
      "Машина мерседес красная цвета выехала на дорогу.\n",
      "Скорость движения составляет 200 km/h.\n",
      "Это полицейские, все нормально.\n"
     ]
    },
    {
     "name": "stdin",
     "output_type": "stream",
     "text": [
      "Введите 1 для остановки; 2 для поворота направо; 3 для поворота налево; 4 для супер-ускорения:  2\n"
     ]
    },
    {
     "name": "stdout",
     "output_type": "stream",
     "text": [
      "Машина мерседес красная продолжает движение со скоростью 200 km/h.\n",
      "Это полицейские, все нормально.\n",
      "\n",
      "Вижу потенциального нарушителя; преследую; текущая скорость 200 km/h.\n",
      "Машина мерседес красная цвета выехала на дорогу.\n",
      "Скорость движения составляет 2 km/h.\n",
      "Это полицейские, все нормально.\n"
     ]
    },
    {
     "name": "stdin",
     "output_type": "stream",
     "text": [
      "Введите 1 для остановки; 2 для поворота направо; 3 для поворота налево; 4 для супер-ускорения:  3\n"
     ]
    },
    {
     "name": "stdout",
     "output_type": "stream",
     "text": [
      "Машина мерседес красная продолжает движение со скоростью 2 km/h.\n",
      "Это полицейские, все нормально.\n",
      "\n",
      "Вижу потенциального нарушителя; преследую; текущая скорость 2 km/h.\n",
      "Машина мерседес красная цвета выехала на дорогу.\n",
      "Скорость движения составляет 3 km/h.\n",
      "Это полицейские, все нормально.\n"
     ]
    },
    {
     "name": "stdin",
     "output_type": "stream",
     "text": [
      "Введите 1 для остановки; 2 для поворота направо; 3 для поворота налево; 4 для супер-ускорения:  4\n"
     ]
    },
    {
     "name": "stdout",
     "output_type": "stream",
     "text": [
      "Машина мерседес красная продолжает движение со скоростью 3 km/h.\n",
      "Это полицейские, все нормально.\n",
      "\n",
      "Вижу потенциального нарушителя; преследую; текущая скорость 3 km/h.\n",
      "Машина мерседес красная цвета выехала на дорогу.\n",
      "Скорость движения составляет 127 km/h.\n",
      "Это полицейские, все нормально.\n"
     ]
    },
    {
     "name": "stdin",
     "output_type": "stream",
     "text": [
      "Введите 1 для остановки; 2 для поворота направо; 3 для поворота налево; 4 для супер-ускорения:  4\n"
     ]
    },
    {
     "name": "stdout",
     "output_type": "stream",
     "text": [
      "Машина мерседес красная продолжает движение со скоростью 127 km/h.\n",
      "Это полицейские, все нормально.\n",
      "\n",
      "Вижу потенциального нарушителя; преследую; текущая скорость 127 km/h.\n",
      "Машина мерседес красная цвета выехала на дорогу.\n",
      "Скорость движения составляет 187 km/h.\n",
      "Это полицейские, все нормально.\n"
     ]
    },
    {
     "name": "stdin",
     "output_type": "stream",
     "text": [
      "Введите 1 для остановки; 2 для поворота направо; 3 для поворота налево; 4 для супер-ускорения:  4\n"
     ]
    },
    {
     "name": "stdout",
     "output_type": "stream",
     "text": [
      "Машина мерседес красная продолжает движение со скоростью 187 km/h.\n",
      "Это полицейские, все нормально.\n",
      "\n",
      "Вижу потенциального нарушителя; преследую; текущая скорость 187 km/h.\n",
      "Машина мерседес красная цвета выехала на дорогу.\n",
      "Скорость движения составляет 165 km/h.\n",
      "Это полицейские, все нормально.\n"
     ]
    },
    {
     "name": "stdin",
     "output_type": "stream",
     "text": [
      "Введите 1 для остановки; 2 для поворота направо; 3 для поворота налево; 4 для супер-ускорения:  4\n"
     ]
    },
    {
     "name": "stdout",
     "output_type": "stream",
     "text": [
      "Машина мерседес красная продолжает движение со скоростью 165 km/h.\n",
      "Это полицейские, все нормально.\n",
      "\n",
      "Вижу потенциального нарушителя; преследую; текущая скорость 165 km/h.\n",
      "Машина мерседес красная цвета выехала на дорогу.\n",
      "Скорость движения составляет 127 km/h.\n",
      "Это полицейские, все нормально.\n"
     ]
    },
    {
     "name": "stdin",
     "output_type": "stream",
     "text": [
      "Введите 1 для остановки; 2 для поворота направо; 3 для поворота налево; 4 для супер-ускорения:  5\n",
      "Введите 1 для остановки; 2 для поворота направо; 3 для поворота налево; 4 для супер-ускорения:  4\n"
     ]
    },
    {
     "name": "stdout",
     "output_type": "stream",
     "text": [
      "Машина мерседес красная продолжает движение со скоростью 127 km/h.\n",
      "Это полицейские, все нормально.\n",
      "\n",
      "Вижу потенциального нарушителя; преследую; текущая скорость 127 km/h.\n",
      "Машина мерседес красная цвета выехала на дорогу.\n",
      "Скорость движения составляет 222 km/h.\n",
      "Это полицейские, все нормально.\n"
     ]
    },
    {
     "name": "stdin",
     "output_type": "stream",
     "text": [
      "Введите 1 для остановки; 2 для поворота направо; 3 для поворота налево; 4 для супер-ускорения:  1\n"
     ]
    },
    {
     "name": "stdout",
     "output_type": "stream",
     "text": [
      "Машина мерседес красная остановилась.\n",
      "Это полицейские, все нормально.\n",
      "Игра завершена. Спасибо за игру!\n"
     ]
    }
   ],
   "source": [
    "police_car = PoliceCar()"
   ]
  },
  {
   "cell_type": "code",
   "execution_count": 125,
   "id": "9abf0c74-2564-4c79-bb8d-f6228e14da96",
   "metadata": {},
   "outputs": [
    {
     "name": "stdin",
     "output_type": "stream",
     "text": [
      "Укажите скорость машины:  60\n",
      "Укажите цвет машины:  синяя\n",
      "Укажите марку машины:  лада\n",
      "Введите \"Y\", если это полицейская машина:  n\n"
     ]
    },
    {
     "name": "stdout",
     "output_type": "stream",
     "text": [
      "Машина лада синяя цвета выехала на дорогу.\n",
      "Скорость движения составляет 60 km/h.\n",
      "Это не полицейские, продолжаем наблюдение...\n",
      "Наблюдаю запрещенный транспорт около в районе адмиистрации города. Будем разбираться.\n",
      "Произвожу задержание нарушетеля.\n",
      "Машина лада синяя остановилась.\n",
      "Это не полицейские, продолжаем наблюдение за районом...\n",
      "Игра завершена. Спасибо за игру!\n"
     ]
    }
   ],
   "source": [
    "work_car = WorkCar()"
   ]
  },
  {
   "cell_type": "code",
   "execution_count": 126,
   "id": "8812acf5-6d56-4c89-9c4e-1cfb81366a5e",
   "metadata": {},
   "outputs": [
    {
     "name": "stdin",
     "output_type": "stream",
     "text": [
      "Укажите скорость машины:  250\n",
      "Укажите цвет машины:  красная\n",
      "Укажите марку машины:  феррари\n",
      "Введите \"Y\", если это полицейская машина:  n\n"
     ]
    },
    {
     "name": "stdout",
     "output_type": "stream",
     "text": [
      "Машина феррари красная цвета выехала на дорогу.\n",
      "Скорость движения составляет 250 km/h.\n",
      "Это не полицейские, продолжаем наблюдение...\n",
      "Наблюдаю запрещенный транспорт около в районе адмиистрации города. Будем разбираться.\n",
      "Произвожу задержание нарушетеля.\n",
      "Машина феррари красная остановилась.\n",
      "Это не полицейские, продолжаем наблюдение за районом...\n",
      "Игра завершена. Спасибо за игру!\n"
     ]
    }
   ],
   "source": [
    "sport_car = SportCar()"
   ]
  },
  {
   "cell_type": "code",
   "execution_count": 129,
   "id": "b9c2048e-ab15-4abb-bd30-85053e02bd9e",
   "metadata": {},
   "outputs": [
    {
     "name": "stdin",
     "output_type": "stream",
     "text": [
      "Укажите скорость машины:  60\n",
      "Укажите цвет машины:  белая\n",
      "Укажите марку машины:  шкода\n",
      "Введите \"Y\", если это полицейская машина:  n\n"
     ]
    },
    {
     "name": "stdout",
     "output_type": "stream",
     "text": [
      "Машина шкода белая цвета выехала на дорогу.\n",
      "Скорость движения составляет 60 km/h.\n",
      "Это не полицейские, продолжаем наблюдение...\n"
     ]
    },
    {
     "name": "stdin",
     "output_type": "stream",
     "text": [
      "Введите 1 для остановки; 2 для поворота направо; 3 для поворота налево; 4 для супер-ускорения:  2\n"
     ]
    },
    {
     "name": "stdout",
     "output_type": "stream",
     "text": [
      "Машина шкода белая продолжает движение со скоростью 60 km/h.\n",
      "все в порядке...\n",
      "\n",
      "Машина шкода белая цвета выехала на дорогу.\n",
      "Скорость движения составляет 60 km/h.\n",
      "Это не полицейские, продолжаем наблюдение...\n"
     ]
    },
    {
     "name": "stdin",
     "output_type": "stream",
     "text": [
      "Введите 1 для остановки; 2 для поворота направо; 3 для поворота налево; 4 для супер-ускорения:  3\n"
     ]
    },
    {
     "name": "stdout",
     "output_type": "stream",
     "text": [
      "Машина шкода белая продолжает движение со скоростью 60 km/h.\n",
      "все в порядке...\n",
      "\n",
      "Машина шкода белая цвета выехала на дорогу.\n",
      "Скорость движения составляет 60 km/h.\n",
      "Это не полицейские, продолжаем наблюдение...\n"
     ]
    },
    {
     "name": "stdin",
     "output_type": "stream",
     "text": [
      "Введите 1 для остановки; 2 для поворота направо; 3 для поворота налево; 4 для супер-ускорения:  4\n"
     ]
    },
    {
     "name": "stdout",
     "output_type": "stream",
     "text": [
      "Машина шкода белая продолжает движение со скоростью 60 km/h.\n",
      "Машина пытается уйти от наблюдения - и ускорилась; текущая скорость 158 km/h.\n",
      "Будем производить задержание.\n",
      "Это не полицейские, сейчас разберемся...\n",
      "Машина шкода белая! Немедленно остановитесь!\n",
      "Производим арест.\n"
     ]
    }
   ],
   "source": [
    "TownCar();"
   ]
  },
  {
   "cell_type": "markdown",
   "id": "5123883a-0f28-47b1-96e3-572ecfb658e8",
   "metadata": {},
   "source": [
    "# Задача 5"
   ]
  },
  {
   "cell_type": "code",
   "execution_count": 130,
   "id": "465b4adb-9c31-45d8-95ba-1d34a8d4f7a3",
   "metadata": {},
   "outputs": [],
   "source": [
    "import time\n",
    "\n",
    "class Stationery():\n",
    "    def __init__(self):\n",
    "        self.own = None\n",
    "    def title(self):\n",
    "        if not self.own:\n",
    "            print('Ничего нет. Выберите инструмент, пожалуйста - и начните заново.')\n",
    "        else:\n",
    "            print('Запуск отрисовки...')\n",
    "            time.sleep(2)\n",
    "    def draw(self):\n",
    "        print(f'Инструмент отрисовки: {self.own}.')\n",
    "\n",
    "        \n",
    "class Pen(Stationery):\n",
    "    def __init__(self):\n",
    "        super().__init__()\n",
    "        self.own = 'pen'\n",
    "        super().title()\n",
    "    def draw(self):\n",
    "        print(f'Учимся работать ручкой: инструмент отрисовки - {self.own}.')\n",
    "\n",
    "class Handle(Stationery):\n",
    "    def __init__(self):\n",
    "        super().__init__()\n",
    "        self.own = 'handle'\n",
    "        super().title()\n",
    "    def draw(self):\n",
    "        print(f'Новый инструмент отрисовки - {self.own}.')\n",
    "        \n",
    "        \n",
    "class Pencil(Stationery):\n",
    "    def __init__(self):\n",
    "        super().__init__()\n",
    "        self.own = 'pencil'\n",
    "        super().title()\n",
    "    def draw(self):\n",
    "        print(f'А теперь - еще один инструмент отрисовки: {self.own}.')"
   ]
  },
  {
   "cell_type": "code",
   "execution_count": 131,
   "id": "350a1021-8e83-4f7d-ae22-abbdac877319",
   "metadata": {},
   "outputs": [
    {
     "name": "stdout",
     "output_type": "stream",
     "text": [
      "Запуск отрисовки...\n",
      "Запуск отрисовки...\n",
      "Запуск отрисовки...\n"
     ]
    }
   ],
   "source": [
    "a = Stationery()\n",
    "pen = Pen()\n",
    "pencil = Pencil()\n",
    "handle = Handle()"
   ]
  },
  {
   "cell_type": "code",
   "execution_count": 132,
   "id": "9ba031f4-4d3f-4016-a82a-9e9f4ffe74bb",
   "metadata": {},
   "outputs": [
    {
     "data": {
      "text/plain": [
       "<__main__.Stationery at 0x7fafc37a1100>"
      ]
     },
     "execution_count": 132,
     "metadata": {},
     "output_type": "execute_result"
    }
   ],
   "source": [
    "a"
   ]
  },
  {
   "cell_type": "code",
   "execution_count": 133,
   "id": "288d0e99-0a50-4321-8ce6-9d9c8ea8d46f",
   "metadata": {},
   "outputs": [
    {
     "name": "stdout",
     "output_type": "stream",
     "text": [
      "Ничего нет. Выберите инструмент, пожалуйста - и начните заново.\n"
     ]
    }
   ],
   "source": [
    "a.title()"
   ]
  },
  {
   "cell_type": "code",
   "execution_count": 134,
   "id": "ffcc6a02-6d07-45ea-9a17-208a3c580e62",
   "metadata": {},
   "outputs": [
    {
     "name": "stdout",
     "output_type": "stream",
     "text": [
      "Инструмент отрисовки: None.\n"
     ]
    }
   ],
   "source": [
    "a.draw()"
   ]
  },
  {
   "cell_type": "code",
   "execution_count": 135,
   "id": "047e8a4b-4bc4-4a15-948b-7f7b30ad3637",
   "metadata": {},
   "outputs": [
    {
     "name": "stdout",
     "output_type": "stream",
     "text": [
      "Запуск отрисовки...\n"
     ]
    }
   ],
   "source": [
    "pen.title()"
   ]
  },
  {
   "cell_type": "code",
   "execution_count": 136,
   "id": "5d392d96-68f4-44f7-8e2b-189d9a8fe040",
   "metadata": {},
   "outputs": [
    {
     "name": "stdout",
     "output_type": "stream",
     "text": [
      "Учимся работать ручкой: инструмент отрисовки - pen.\n"
     ]
    }
   ],
   "source": [
    "pen.draw()"
   ]
  },
  {
   "cell_type": "code",
   "execution_count": 137,
   "id": "4bf7be7f-800b-4dcf-9802-d77c17021ede",
   "metadata": {},
   "outputs": [
    {
     "name": "stdout",
     "output_type": "stream",
     "text": [
      "Запуск отрисовки...\n"
     ]
    }
   ],
   "source": [
    "pencil.title()"
   ]
  },
  {
   "cell_type": "code",
   "execution_count": 138,
   "id": "3ca40025-6a35-492d-aa56-7f97d5ac3ecb",
   "metadata": {},
   "outputs": [
    {
     "name": "stdout",
     "output_type": "stream",
     "text": [
      "А теперь - еще один инструмент отрисовки: pencil.\n"
     ]
    }
   ],
   "source": [
    "pencil.draw()"
   ]
  },
  {
   "cell_type": "code",
   "execution_count": 139,
   "id": "e4ee46ac-9378-4fef-9b45-9fc126e52bd4",
   "metadata": {},
   "outputs": [
    {
     "name": "stdout",
     "output_type": "stream",
     "text": [
      "Запуск отрисовки...\n"
     ]
    }
   ],
   "source": [
    "handle.title()"
   ]
  },
  {
   "cell_type": "code",
   "execution_count": 140,
   "id": "7e7dd488-a571-4ac5-af72-d0fcaeaf96cd",
   "metadata": {},
   "outputs": [
    {
     "name": "stdout",
     "output_type": "stream",
     "text": [
      "Новый инструмент отрисовки - handle.\n"
     ]
    }
   ],
   "source": [
    "handle.draw()"
   ]
  },
  {
   "cell_type": "code",
   "execution_count": null,
   "id": "e0936764-391e-4697-9a75-99c0a5ca4ba5",
   "metadata": {},
   "outputs": [],
   "source": []
  },
  {
   "cell_type": "code",
   "execution_count": null,
   "id": "142486c2-fe4a-4cdf-b2d0-e2a726e406e6",
   "metadata": {},
   "outputs": [],
   "source": []
  },
  {
   "cell_type": "code",
   "execution_count": null,
   "id": "664e4479-26e2-4d91-adfa-d1370ee7d0ae",
   "metadata": {},
   "outputs": [],
   "source": []
  }
 ],
 "metadata": {
  "kernelspec": {
   "display_name": "Python 3 (ipykernel)",
   "language": "python",
   "name": "python3"
  },
  "language_info": {
   "codemirror_mode": {
    "name": "ipython",
    "version": 3
   },
   "file_extension": ".py",
   "mimetype": "text/x-python",
   "name": "python",
   "nbconvert_exporter": "python",
   "pygments_lexer": "ipython3",
   "version": "3.9.7"
  }
 },
 "nbformat": 4,
 "nbformat_minor": 5
}
