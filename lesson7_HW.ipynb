{
 "cells": [
  {
   "cell_type": "markdown",
   "id": "d04ed604-ef33-4f52-9f4a-1aaf2b25b533",
   "metadata": {},
   "source": [
    "# Задания"
   ]
  },
  {
   "cell_type": "markdown",
   "id": "22337a49-7098-4118-a08f-e108fa56c8f6",
   "metadata": {},
   "source": [
    "1. Реализовать класс Matrix (матрица). Обеспечить перегрузку конструктора класса (метод __init__()), который должен принимать данные (список списков) для формирования матрицы.\n",
    "\n",
    "    Подсказка: матрица — система некоторых математических величин, расположенных в виде прямоугольной схемы.\n",
    "    Примеры матриц: 3 на 2, 3 на 3, 2 на 4.\n",
    "<pre>\n",
    "    31    32         3    5    32        3    5    8    3\n",
    "    37    43         2    4    6         8    3    7    1\n",
    "    51    86        -1   64   -8\n",
    "</pre>\n",
    "    Следующий шаг — реализовать перегрузку метода __str__() для вывода матрицы в привычном виде.\n",
    "    Далее реализовать перегрузку метода __add__() для реализации операции сложения двух объектов класса Matrix (двух матриц). Результатом сложения должна быть новая матрица.\n",
    "\n",
    "    Подсказка: сложение элементов матриц выполнять поэлементно — первый элемент первой строки первой матрицы складываем с первым элементом первой строки второй матрицы и т.д.\n",
    "    \n",
    "2. Реализовать проект расчёта суммарного расхода ткани на производство одежды. Основная сущность (класс) этого проекта — одежда, которая может иметь определённое название. К типам одежды в этом проекте относятся пальто и костюм. У этих типов одежды существуют параметры: размер (для пальто) и рост (для костюма). Это могут быть обычные числа: V и H, соответственно.\n",
    "\n",
    "    Для определения расхода ткани по каждому типу одежды использовать формулы: для пальто (V/6.5 + 0.5), для костюма (2*H + 0.3). Проверить работу этих методов на реальных данных.\n",
    "    Реализовать общий подсчет расхода ткани. Проверить на практике полученные на этом уроке знания: реализовать абстрактные классы для основных классов проекта, проверить на практике работу декоратора @property.\n",
    "    \n",
    "3. Реализовать программу работы с органическими клетками, состоящими из ячеек. Необходимо создать класс Клетка. В его конструкторе инициализировать параметр, соответствующий количеству ячеек клетки (целое число). В классе должны быть реализованы методы перегрузки арифметических операторов: сложение (__add__()), вычитание (__sub__()), умножение (__mul__()), деление (__truediv__()). Данные методы должны применяться только к клеткам и выполнять увеличение, уменьшение, умножение и целочисленное (с округлением до целого) деление клеток, соответственно.\n",
    "\n",
    "    Сложение. Объединение двух клеток. При этом число ячеек общей клетки должно равняться сумме ячеек исходных двух клеток.\n",
    "    \n",
    "    Вычитание. Участвуют две клетки. Операцию необходимо выполнять только если разность количества ячеек двух клеток больше нуля, иначе выводить соответствующее сообщение.\n",
    "    \n",
    "    Умножение. Создаётся общая клетка из двух. Число ячеек общей клетки определяется как произведение количества ячеек этих двух клеток.\n",
    "    \n",
    "    Деление. Создаётся общая клетка из двух. Число ячеек общей клетки определяется как целочисленное деление количества ячеек этих двух клеток.\n",
    "    \n",
    "    В классе необходимо реализовать метод make_order(), принимающий экземпляр класса и количество ячеек в ряду. Данный метод позволяет организовать ячейки по рядам.\n",
    "    \n",
    "    Метод должен возвращать строку вида \\*\\*\\*\\*\\*\\n\\*\\*\\*\\*\\*\\n\\*\\*\\*\\*\\*..., где количество ячеек между \\n равно переданному аргументу. Если ячеек на формирование ряда не хватает, то в последний ряд записываются все оставшиеся.\n",
    "\n",
    "    Например, количество ячеек клетки равняется 12, количество ячеек в ряду — 5. Тогда метод make_order() вернёт строку: \\*\\*\\*\\*\\*\\n\\*\\*\\*\\*\\*\\n\\*\\*.\n",
    "    \n",
    "    Или, количество ячеек клетки равняется 15, количество ячеек в ряду — 5. Тогда метод make_order() вернёт строку: \\*\\*\\*\\*\\*\\n\\*\\*\\*\\*\\*\\n\\*\\*\\*\\*\\*.\n",
    "    \n",
    "    Подсказка: подробный список операторов для перегрузки доступен по ссылке."
   ]
  },
  {
   "cell_type": "markdown",
   "id": "62dc23d6-5ce0-45d7-a5e5-672ff57aa61c",
   "metadata": {},
   "source": [
    "# Задача 1"
   ]
  },
  {
   "cell_type": "markdown",
   "id": "f2e947d1-db16-49de-b063-345e69e5b825",
   "metadata": {},
   "source": [
    "## Вариант 1"
   ]
  },
  {
   "cell_type": "code",
   "execution_count": 1,
   "id": "105856f5-d978-47fb-b7bd-bd635fc2a789",
   "metadata": {},
   "outputs": [
    {
     "name": "stdout",
     "output_type": "stream",
     "text": [
      "\n",
      "Данная программа генерирует две матрицы одинакового размера, заданного пользователем;\n",
      "После генерации и вывода сгенерированных матриц на экран,\n",
      "производится суммирование двух матриц,\n",
      "результирующая матрица также выводится на экран.\n",
      "\n"
     ]
    },
    {
     "name": "stdin",
     "output_type": "stream",
     "text": [
      "Укажите количество списков:  7\n",
      "Укажите длину списков:  12\n"
     ]
    },
    {
     "name": "stdout",
     "output_type": "stream",
     "text": [
      "Первая матрица:\n",
      "[[51.  5. 68. 93. 36. 44.  9. 63. 28. 43. 65. 22.]\n",
      " [59. 46. 40. 56. 63. 74. 28. 46. 49. 93. 85. 34.]\n",
      " [98. 93. 44. 81. 36. 19. 44. 76. 61. 19. 88. 26.]\n",
      " [30. 32. 53. 87. 20. 69. 11. 64. 62. 91. 94. 97.]\n",
      " [18. 78. 48. 47. 81. 43. 71. 96. 46.  2. 18. 19.]\n",
      " [82. 28. 71.  3. 52. 12. 69.  6. 37. 17. 53. 44.]\n",
      " [71. 59. 86.  1. 40. 40. 59.  2. 19. 95. 10. 65.]]\n",
      "\n",
      "Вторая матрица:\n",
      "[[56. 55. 50. 24. 44. 41. 68. 38. 17. 63. 10. 37.]\n",
      " [27. 93. 65. 43. 54. 48. 85. 33. 64. 75. 68. 28.]\n",
      " [39. 46. 75. 58. 54. 26. 21. 31. 83. 34. 20. 27.]\n",
      " [36. 54. 51. 43. 64. 76. 96. 72. 66. 24. 67. 22.]\n",
      " [95. 38. 53. 46. 93. 90. 10. 40. 63. 16. 21. 37.]\n",
      " [51. 46. 41. 94. 50. 44. 76.  5. 48. 44. 10. 39.]\n",
      " [73. 44.  3. 25. 48. 58. 86. 86.  1.  2. 71. 74.]]\n",
      "\n",
      "Сумма двух матриц:\n",
      "[[107.  60. 118. 117.  80.  85.  77. 101.  45. 106.  75.  59.]\n",
      " [ 86. 139. 105.  99. 117. 122. 113.  79. 113. 168. 153.  62.]\n",
      " [137. 139. 119. 139.  90.  45.  65. 107. 144.  53. 108.  53.]\n",
      " [ 66.  86. 104. 130.  84. 145. 107. 136. 128. 115. 161. 119.]\n",
      " [113. 116. 101.  93. 174. 133.  81. 136. 109.  18.  39.  56.]\n",
      " [133.  74. 112.  97. 102.  56. 145.  11.  85.  61.  63.  83.]\n",
      " [144. 103.  89.  26.  88.  98. 145.  88.  20.  97.  81. 139.]]\n"
     ]
    }
   ],
   "source": [
    "import numpy as np\n",
    "class Matrix():\n",
    "    def __init__(self,list_number=None,list_length=None):\n",
    "        self.list_number = list_number\n",
    "        self.list_length = list_length\n",
    "        Matrix.matrix_gen(self)\n",
    "\n",
    "    def matrix_gen(self):\n",
    "        if not self.list_number and not self.list_length:\n",
    "            self.list_number = int(input('Укажите количество списков: '))\n",
    "            self.list_length = int(input('Укажите длину списков: '))\n",
    "        self.matrix = np.zeros([self.list_number,self.list_length])\n",
    "        for k,row in enumerate(self.matrix):\n",
    "            for i in range(len(row)):\n",
    "                row[i] = np.random.randint(0,100)\n",
    "\n",
    "    def __str__(self):\n",
    "        return f'{self.matrix}'\n",
    "    def __add__(self,other):\n",
    "        self.added = []\n",
    "        for k,i in enumerate(self.matrix):\n",
    "            self.added.append([])\n",
    "            for kk,j in enumerate(i):\n",
    "                self.added[k].append(self.matrix[k][kk]+other[k][kk])\n",
    "                \n",
    "        return np.array(self.added)\n",
    "\n",
    "print('''\n",
    "Данная программа генерирует две матрицы одинакового размера, заданного пользователем;\n",
    "После генерации и вывода сгенерированных матриц на экран,\n",
    "производится суммирование двух матриц,\n",
    "результирующая матрица также выводится на экран.\n",
    "''')\n",
    "get_matrix = Matrix()\n",
    "print('Первая матрица:')\n",
    "print(get_matrix.matrix)\n",
    "x = get_matrix.matrix.shape[0]\n",
    "y = get_matrix.matrix.shape[1]\n",
    "get_matrix2 = Matrix(x,y)\n",
    "print('\\nВторая матрица:')\n",
    "print(get_matrix2.matrix)\n",
    "print('\\nСумма двух матриц:')\n",
    "print(get_matrix+get_matrix2.matrix)"
   ]
  },
  {
   "cell_type": "markdown",
   "id": "627bbbb9-31c2-459b-8258-eb5261576b2b",
   "metadata": {},
   "source": [
    "## Вариант 2"
   ]
  },
  {
   "cell_type": "code",
   "execution_count": 2,
   "id": "dfc6e0be-06cc-4088-8c4c-559117f53600",
   "metadata": {},
   "outputs": [
    {
     "name": "stdout",
     "output_type": "stream",
     "text": [
      "[[1. 4.]\n",
      " [2. 5.]\n",
      " [3. 6.]]\n",
      "[[1. 4.]\n",
      " [2. 5.]\n",
      " [3. 6.]]\n",
      "[[ 2.  8.]\n",
      " [ 4. 10.]\n",
      " [ 6. 12.]]\n"
     ]
    }
   ],
   "source": [
    "import numpy as np\n",
    "class Matrix():\n",
    "    def __init__(self,list1,list2):\n",
    "        self.list1 = list1\n",
    "        self.list2 = list2\n",
    "\n",
    "    def matrix_gen(self):\n",
    "        self.matrix = np.zeros([len(self.list1),2])\n",
    "        for k,row in enumerate(self.matrix):\n",
    "            row[0],row[1] = self.list1[k],self.list2[k]\n",
    "            \n",
    "\n",
    "    def __str__(self):\n",
    "        return f'{self.matrix}'\n",
    "    \n",
    "    def __add__(self,other):\n",
    "        self.added = []\n",
    "        for k,i in enumerate(self.matrix):\n",
    "            self.added.append([])\n",
    "            for kk,j in enumerate(i):\n",
    "                self.added[k].append(self.matrix[k][kk]+other[k][kk])\n",
    "                \n",
    "        return np.array(self.added)\n",
    "\n",
    "\n",
    "\n",
    "\n",
    "list1 = [1,2,3]\n",
    "list2 = [4,5,6]\n",
    "get_matrix = Matrix(list1,list2)\n",
    "get_matrix.matrix_gen()\n",
    "print(get_matrix.matrix)\n",
    "get_matrix2 = Matrix(list1,list2)\n",
    "get_matrix2.matrix_gen()\n",
    "print(get_matrix2.matrix)\n",
    "print(get_matrix+get_matrix2.matrix)"
   ]
  },
  {
   "cell_type": "markdown",
   "id": "6f2933c8-8eb0-4043-ab69-3a57585214bb",
   "metadata": {},
   "source": [
    "# Задача 2"
   ]
  },
  {
   "cell_type": "code",
   "execution_count": 3,
   "id": "e5f6318c-78ab-4ae2-be0a-315d1a660fce",
   "metadata": {},
   "outputs": [
    {
     "name": "stdin",
     "output_type": "stream",
     "text": [
      "Введите 1, если Вам нужно пальто; 2, если нужен костюм:  2\n",
      "Укажите размер пальто или рост для костюма (только цифры):  1.8\n"
     ]
    },
    {
     "data": {
      "text/plain": [
       "3.9"
      ]
     },
     "execution_count": 3,
     "metadata": {},
     "output_type": "execute_result"
    }
   ],
   "source": [
    "class cloth():\n",
    "    cloth_name = input('Введите 1, если Вам нужно пальто; 2, если нужен костюм: ')\n",
    "    cloth_dict = {'1':'coat','2':'suite'}\n",
    "    cloth_name = cloth_dict[cloth_name]\n",
    "    param = None\n",
    "    while not param:\n",
    "        try:\n",
    "            param = float(input('Укажите размер пальто или рост для костюма (только цифры): '))\n",
    "        except Exception:\n",
    "            print('Исправьте, пожалуйста, ошибку ввода данных: для указания размера или роста можно использовать только цифры.')\n",
    "            param = None\n",
    "                    \n",
    "    def __init__(self,cloth_name=cloth_name,param=param):\n",
    "        self.name=cloth_name\n",
    "        self.param = param\n",
    "        self.size,self.height = None,None\n",
    "        \n",
    "    def features(self):\n",
    "        if str(self.param).replace('.','',1).isdigit():\n",
    "            if self.name == 'coat':\n",
    "                self.size = self.param\n",
    "            elif self.name == 'suite':\n",
    "                self.height = self.param\n",
    "            else:\n",
    "                return f'Проверьте использованные параметры - и попробуйте еще раз.'\n",
    "        else:\n",
    "            return 'Проверьте значения параметров - и попробуйте еще раз.'\n",
    "    @property\n",
    "    def material_amount(self):\n",
    "        cloth.features(self)\n",
    "        if self.size:\n",
    "            self.amount = self.size/6 +0.5\n",
    "        if self.height:\n",
    "            self.amount = 2*self.height + 0.3\n",
    "        return self.amount\n",
    "\n",
    "\n",
    "\n",
    "material_amount = cloth()\n",
    "material_amount.material_amount"
   ]
  },
  {
   "cell_type": "markdown",
   "id": "006e4f5d-edae-4c99-9a04-9a99d6395705",
   "metadata": {},
   "source": [
    "# Задача 3"
   ]
  },
  {
   "cell_type": "code",
   "execution_count": 7,
   "id": "3a97960c-7e5a-432e-9670-fe3b48ddd8af",
   "metadata": {},
   "outputs": [
    {
     "name": "stdin",
     "output_type": "stream",
     "text": [
      "Укажите количество ячеек в первой клетке:  12\n",
      "Укажите количество ячеек во второй клетке:  5\n"
     ]
    },
    {
     "name": "stdout",
     "output_type": "stream",
     "text": [
      "22\n",
      "7\n",
      "60\n",
      "2\n"
     ]
    }
   ],
   "source": [
    "class Cell():\n",
    "    def __init__(self,cells):\n",
    "        self.cells=cells\n",
    "    \n",
    "    def __add__(self,second):\n",
    "        return self.cells+2*second.cells\n",
    "    \n",
    "    def __sub__(self,second):\n",
    "        return max(self.cells,second.cells)-min(self.cells,second.cells) if self.cells!=second.cells else 'клетки одинакового размера'\n",
    "    \n",
    "    def __mul__(self,second):\n",
    "        return max(self.cells,second.cells)*min(self.cells,second.cells)\n",
    "    \n",
    "    def __truediv__(self,second):\n",
    "        return max(self.cells,second.cells)//min(self.cells,second.cells)\n",
    "    \n",
    "    def make_order(self,in_row):\n",
    "        rows = self.cells//in_row\n",
    "        last_row = self.cells%in_row\n",
    "        result = ['*'*in_row]*rows\n",
    "        if last_row>0:\n",
    "            result.append('*'*last_row)\n",
    "        return print(*result,sep='\\n')\n",
    "\n",
    "first = None\n",
    "second = None\n",
    "while not first or not second:\n",
    "    try:\n",
    "        first = int(input('Укажите количество ячеек в первой клетке: '))\n",
    "        second = int(input('Укажите количество ячеек во второй клетке: '))\n",
    "    except Exception:\n",
    "        print('Нужно ввести числовые значения для указания количества ячеек.')\n",
    "        first = None\n",
    "        second = None\n",
    "a = Cell(first)\n",
    "b = Cell(second)\n",
    "print(Cell(a.cells)+Cell(b.cells))\n",
    "print(Cell(a.cells)-Cell(b.cells))\n",
    "print(Cell(a.cells)*Cell(b.cells))\n",
    "print(Cell(a.cells)/Cell(b.cells))"
   ]
  },
  {
   "cell_type": "code",
   "execution_count": 8,
   "id": "b57060a3-0888-4c9b-859d-e0e925a8ce45",
   "metadata": {},
   "outputs": [
    {
     "name": "stdout",
     "output_type": "stream",
     "text": [
      "*****\n",
      "*****\n",
      "**\n"
     ]
    }
   ],
   "source": [
    "a.make_order(5)"
   ]
  },
  {
   "cell_type": "code",
   "execution_count": null,
   "id": "92be532b-016a-4c0f-a349-e29ad4e142c3",
   "metadata": {},
   "outputs": [],
   "source": []
  }
 ],
 "metadata": {
  "kernelspec": {
   "display_name": "Python 3 (ipykernel)",
   "language": "python",
   "name": "python3"
  },
  "language_info": {
   "codemirror_mode": {
    "name": "ipython",
    "version": 3
   },
   "file_extension": ".py",
   "mimetype": "text/x-python",
   "name": "python",
   "nbconvert_exporter": "python",
   "pygments_lexer": "ipython3",
   "version": "3.9.7"
  }
 },
 "nbformat": 4,
 "nbformat_minor": 5
}
