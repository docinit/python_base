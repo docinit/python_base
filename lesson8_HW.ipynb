{
 "cells": [
  {
   "cell_type": "markdown",
   "id": "c11db60a-5e6e-4168-9756-4dc9669e8126",
   "metadata": {},
   "source": [
    "1. Реализовать класс «Дата», функция-конструктор которого должна принимать дату в виде строки формата «день-месяц-год». В рамках класса реализовать два метода. Первый, с декоратором @classmethod. Он должен извлекать число, месяц, год и преобразовывать их тип к типу «Число». Второй, с декоратором @staticmethod, должен проводить валидацию числа, месяца и года (например, месяц — от 1 до 12). Проверить работу полученной структуры на реальных данных.\n",
    "\n",
    "2. Создайте собственный класс-исключение, обрабатывающий ситуацию деления на ноль. Проверьте его работу на данных, вводимых пользователем. При вводе нуля в качестве делителя программа должна корректно обработать эту ситуацию и не завершиться с ошибкой.\n",
    "\n",
    "3. Создайте собственный класс-исключение, который должен проверять содержимое списка на наличие только чисел. Проверить работу исключения на реальном примере. Запрашивать у пользователя данные и заполнять список необходимо только числами. Класс-исключение должен контролировать типы данных элементов списка.\n",
    "\n",
    "    Примечание: длина списка не фиксирована. Элементы запрашиваются бесконечно, пока пользователь сам не остановит работу скрипта, введя, например, команду «stop». При этом скрипт завершается, сформированный список с числами выводится на экран.\n",
    "    Подсказка: для этого задания примем, что пользователь может вводить только числа и строки. Во время ввода пользователем очередного элемента необходимо реализовать проверку типа элемента. Вносить его в список, только если введено число. Класс-исключение должен не позволить пользователю ввести текст (не число) и отобразить соответствующее сообщение. При этом работа скрипта не должна завершаться.\n",
    "\n",
    "4. Начните работу над проектом «Склад оргтехники». Создайте класс, описывающий склад. А также класс «Оргтехника», который будет базовым для классов-наследников. Эти классы — конкретные типы оргтехники (принтер, сканер, ксерокс). В базовом классе определите параметры, общие для приведённых типов. В классах-наследниках реализуйте параметры, уникальные для каждого типа оргтехники.\n",
    "\n",
    "5. Продолжить работу над первым заданием. Разработайте методы, которые отвечают за приём оргтехники на склад и передачу в определённое подразделение компании. Для хранения данных о наименовании и количестве единиц оргтехники, а также других данных, можно использовать любую подходящую структуру (например, словарь).\n",
    "\n",
    "6. Продолжить работу над вторым заданием. Реализуйте механизм валидации вводимых пользователем данных. Например, для указания количества принтеров, отправленных на склад, нельзя использовать строковый тип данных.\n",
    "\n",
    "    Подсказка: постарайтесь реализовать в проекте «Склад оргтехники» максимум возможностей, изученных на уроках по ООП.\n",
    "\n",
    "7. Реализовать проект «Операции с комплексными числами». Создайте класс «Комплексное число». Реализуйте перегрузку методов сложения и умножения комплексных чисел. Проверьте работу проекта. Для этого создаёте экземпляры класса (комплексные числа), выполните сложение и умножение созданных экземпляров. Проверьте корректность полученного результата."
   ]
  },
  {
   "cell_type": "markdown",
   "id": "26251b8e-453e-49ef-baa7-f250ff8223fc",
   "metadata": {},
   "source": [
    "# Задача 1"
   ]
  },
  {
   "cell_type": "code",
   "execution_count": 1,
   "id": "d92ea413-395c-41d9-8fe8-307d4e637149",
   "metadata": {},
   "outputs": [
    {
     "name": "stdin",
     "output_type": "stream",
     "text": [
      "Введите день (2 цифры):  16\n",
      "Введите месяц (2 цифры):  2\n",
      "Введите год (4 цифры):  2022\n"
     ]
    },
    {
     "name": "stdout",
     "output_type": "stream",
     "text": [
      "Год: 2022, Месяц: 2, День: 16\n"
     ]
    }
   ],
   "source": [
    "import datetime as dt\n",
    "\n",
    "class Data():\n",
    "    def __init__(self,date):\n",
    "        self.date = date\n",
    "        \n",
    "    def date_list(self):\n",
    "        self.date = self.date.split('-')\n",
    "        return self.date\n",
    "        \n",
    "    @classmethod\n",
    "    def transformer(klass,date):\n",
    "        year = int(date[2])\n",
    "        month = int(date[1])\n",
    "        day = int(date[0])\n",
    "        return year,month,day\n",
    "        \n",
    "    @staticmethod\n",
    "    def checkpoint(year,month,day):\n",
    "        # проверка, что дата год не превышает значение текущего\n",
    "        vis = 1 if (year%4==0 and year%100!=0) or year%400==0 else 0\n",
    "        if year>dt.date.today().year or year<0:\n",
    "            print(f'Проверьте значение года: оно не может быть больше текущего или меньше нуля.')\n",
    "        elif month>12 or month<0:\n",
    "            print(f'Проверьте значение месяца: оно не может быть больше 12 или меньше нуля.')\n",
    "        elif day>31 or day<0:\n",
    "            print(f'Проверьте значение дня: оно не может быть больше текущего или меньше нуля.')\n",
    "        elif month not in [1,3,5,7,8,10,12,2] and day >30:\n",
    "            print(f'Проверьте значение дня: в {month}-м месяце не может быть {day} дня/дней.')\n",
    "        elif month == 2 and day >29 and vis==1:\n",
    "            print(f'Проверьте значение дня: в {month}-м месяце в {year} году не может быть больше 29 дней.')\n",
    "        elif month == 2 and day >28 and vis==0:\n",
    "            print(f'Проверьте значение дня: в {month}-м месяце в {year} году не может быть больше 28 дней.')\n",
    "        else:\n",
    "            print(f'Год: {year}, Месяц: {month}, День: {day}')\n",
    "        \n",
    "\n",
    "string = input('Введите день (2 цифры): ') # день    \n",
    "string += '-'+input('Введите месяц (2 цифры): ') # месяц\n",
    "string += '-'+input('Введите год (4 цифры): ') # год\n",
    "\n",
    "mydate = Data(string)\n",
    "date = mydate.date_list()\n",
    "# year,month,day = mydate.transformer(date)\n",
    "year,month,day = Data.transformer(date)\n",
    "Data.checkpoint(year,month,day)"
   ]
  },
  {
   "cell_type": "code",
   "execution_count": 2,
   "id": "850896ab-f03c-489a-ba97-7bb033071ac0",
   "metadata": {},
   "outputs": [
    {
     "data": {
      "text/plain": [
       "(int, int, int)"
      ]
     },
     "execution_count": 2,
     "metadata": {},
     "output_type": "execute_result"
    }
   ],
   "source": [
    "type(year),type(month),type(day)"
   ]
  },
  {
   "cell_type": "markdown",
   "id": "11cee902-6f56-4ee5-a9d5-7f8590e4d8ca",
   "metadata": {
    "tags": []
   },
   "source": [
    "# Задача 2"
   ]
  },
  {
   "cell_type": "code",
   "execution_count": 5,
   "id": "1ea37294-aa84-47ae-badc-b7014df05354",
   "metadata": {},
   "outputs": [
    {
     "name": "stdin",
     "output_type": "stream",
     "text": [
      "Укажите делимое:  5\n",
      "Укажите делитель; можете попробовать даже \"ноль\"):  0\n"
     ]
    },
    {
     "name": "stdout",
     "output_type": "stream",
     "text": [
      "Вы ошиблись...\n",
      "You have to escape any attempt to divide by zero!\n",
      "\n"
     ]
    }
   ],
   "source": [
    "class ZeroDivError(Exception):\n",
    "    def __init__(self):\n",
    "        print('You have to escape any attempt to divide by zero!')\n",
    "        \n",
    "a = int(input('Укажите делимое: '))\n",
    "b = int(input('Укажите делитель; можете попробовать даже \"ноль\"): '))\n",
    "try:\n",
    "    if b==0:\n",
    "        result = 'Вы ошиблись...'\n",
    "        print(result)\n",
    "        raise ZeroDivError()\n",
    "    else:\n",
    "        result = a/b\n",
    "except ZeroDivError as zde:\n",
    "    print(zde)\n",
    "else:\n",
    "    print(result)\n"
   ]
  },
  {
   "cell_type": "markdown",
   "id": "2fb90cb2-2b04-4146-9919-58be1eb50b98",
   "metadata": {
    "tags": []
   },
   "source": [
    "# Задача 3"
   ]
  },
  {
   "cell_type": "code",
   "execution_count": 6,
   "id": "2f61b4e4-ac7c-4335-b2b0-dd2580de45ba",
   "metadata": {},
   "outputs": [
    {
     "name": "stdin",
     "output_type": "stream",
     "text": [
      "Введите первое число для формирования списка чисел:  1\n"
     ]
    },
    {
     "name": "stdout",
     "output_type": "stream",
     "text": [
      "[1]\n"
     ]
    },
    {
     "name": "stdin",
     "output_type": "stream",
     "text": [
      "Введите следующее число для добавления в список чисел:  2\n"
     ]
    },
    {
     "name": "stdout",
     "output_type": "stream",
     "text": [
      "[1, 2]\n"
     ]
    },
    {
     "name": "stdin",
     "output_type": "stream",
     "text": [
      "Введите следующее число для добавления в список чисел:  3\n"
     ]
    },
    {
     "name": "stdout",
     "output_type": "stream",
     "text": [
      "[1, 2, 3]\n"
     ]
    },
    {
     "name": "stdin",
     "output_type": "stream",
     "text": [
      "Введите следующее число для добавления в список чисел:  4\n"
     ]
    },
    {
     "name": "stdout",
     "output_type": "stream",
     "text": [
      "[1, 2, 3, 4]\n"
     ]
    },
    {
     "name": "stdin",
     "output_type": "stream",
     "text": [
      "Введите следующее число для добавления в список чисел:  a\n"
     ]
    },
    {
     "name": "stdout",
     "output_type": "stream",
     "text": [
      "Вы ввели некорректное значение. Попробуйте еще раз!\n",
      "\n"
     ]
    },
    {
     "name": "stdin",
     "output_type": "stream",
     "text": [
      "Введите следующее число для добавления в список чисел:  5\n"
     ]
    },
    {
     "name": "stdout",
     "output_type": "stream",
     "text": [
      "[1, 2, 3, 4, 5]\n"
     ]
    },
    {
     "name": "stdin",
     "output_type": "stream",
     "text": [
      "Введите следующее число для добавления в список чисел:  stop\n"
     ]
    },
    {
     "data": {
      "text/plain": [
       "[1, 2, 3, 4, 5]"
      ]
     },
     "execution_count": 6,
     "metadata": {},
     "output_type": "execute_result"
    }
   ],
   "source": [
    "class ValueError(Exception):\n",
    "    def __init__(self):\n",
    "        print('Вы ввели некорректное значение. Попробуйте еще раз!')\n",
    "        \n",
    "class InputValues():\n",
    "    full_list = []\n",
    "    def __init__(self,value):\n",
    "        self.full_list = InputValues.full_list\n",
    "        if value == 'del':\n",
    "            pass\n",
    "        else:\n",
    "            self.full_list.append(int(value))\n",
    "\n",
    "        \n",
    "def append_to_list(value):\n",
    "    try:\n",
    "        if len([i for i in value.replace('.','',1) if not i.isdigit()])==0:\n",
    "            value = float(value)\n",
    "        else:\n",
    "            result = 'Вы ошиблись...'\n",
    "            raise ValueError()\n",
    "    except ValueError as ve:\n",
    "        print(ve)\n",
    "        return InputValues('del').full_list\n",
    "    else:\n",
    "        result_list = InputValues(value)\n",
    "        print(result_list.full_list)\n",
    "        return result_list.full_list\n",
    "value = None\n",
    "result_list = None\n",
    "while not value:\n",
    "    if not result_list:\n",
    "        value = input('Введите первое число для формирования списка чисел: ')\n",
    "        if value == 'stop':\n",
    "            break\n",
    "        result_list=append_to_list(value)\n",
    "    else:\n",
    "        value = input('Введите следующее число для добавления в список чисел: ')\n",
    "        if value == 'stop':\n",
    "            break\n",
    "        result_list=append_to_list(value)\n",
    "    value = None\n",
    "    \n",
    "result_list"
   ]
  },
  {
   "cell_type": "markdown",
   "id": "d7335937-4e25-4ec9-bdf1-577616157885",
   "metadata": {},
   "source": [
    "# Задачи 4-6"
   ]
  },
  {
   "cell_type": "code",
   "execution_count": 7,
   "id": "023e8e58-e081-4824-9b81-953552a12ba8",
   "metadata": {},
   "outputs": [
    {
     "name": "stdout",
     "output_type": "stream",
     "text": [
      "\n",
      "Используемые коды товаров:\n",
      "1 - Принтеры;\n",
      "2 - Сканеры;\n",
      "3 - Копиры.\n",
      "\n"
     ]
    }
   ],
   "source": [
    "import pandas as pd\n",
    "# Сообщение об ошибке\n",
    "class ValuesError(Exception):\n",
    "    def __init__(self):\n",
    "        print('Вы ввели некорректное значение.')\n",
    "    \n",
    "# склад товаров\n",
    "class Warehouse():\n",
    "#     словарь для хранения информации о количестве товаров на складе\n",
    "    store_data = {'Принтеры':0,'Сканеры':0,'Копиры':0}\n",
    "# Конструктор\n",
    "    def __init__(self):\n",
    "        pass\n",
    "# Вывод информации о количестве товара по запросу пользователя\n",
    "    def how_much(self,equip):\n",
    "        self.quantity = Warehouse.store_data[equip]\n",
    "        print(f'В настоящее время на складе {self.quantity} единиц товара вида \"{equip}\"')\n",
    "# Функция, позволяющая указать количество товара для разных целей (приема на склад или выдачи со склада)\n",
    "    @staticmethod\n",
    "    def quantity_of_equip():\n",
    "        quantity = input('Укажите число единиц товара: ')\n",
    "        try:\n",
    "            if quantity.isdigit():\n",
    "                quantity = int(quantity)\n",
    "            else:\n",
    "                raise ValuesError()\n",
    "        except ValuesError as ve:\n",
    "            print(ve)\n",
    "            quantity = Warehouse.quantity_of_equip()\n",
    "        return int(quantity)\n",
    "\n",
    "# Класс позволяет вводить информацию о разных типах товара\n",
    "class Equipment():\n",
    "    equipment_dict = {}\n",
    "#     Конструктор\n",
    "    def __init__(self,equip):\n",
    "        self.equip = equip\n",
    "#         Указываем количество принятого товара на склад\n",
    "    def income_quantity(self,quantity):\n",
    "        print('Вы добавляете товар на склад.')\n",
    "        self.quantity = quantity\n",
    "        Warehouse.store_data[self.equip] += self.quantity\n",
    "        print('Операция выполнена. Товар добавлен.')\n",
    "        \n",
    "    def outcome_quantity(self,quantity):\n",
    "        print('Вы забираете товар со склада.')\n",
    "        self.quantity = quantity\n",
    "        if Warehouse.store_data[self.equip]>=self.quantity:\n",
    "            Warehouse.store_data[self.equip] -= self.quantity\n",
    "            print('Операция выполнена. Товар выдан.')\n",
    "        else:\n",
    "            print('На складе нет необходимого количества товара. Попробуйте позже.')\n",
    "        \n",
    "\n",
    "        \n",
    "    \n",
    "class Printer(Equipment):\n",
    "    \n",
    "    def __init__(self):\n",
    "        super().__init__(equip)\n",
    "        Printer.features(self)\n",
    "\n",
    "    def features(self):\n",
    "        item_count = sum(list(Warehouse.store_data.values()))\n",
    "        while len(Equipment.equipment_dict)<item_count:\n",
    "            Equipment.equipment_dict[len(Equipment.equipment_dict)] = {'type':equip,\\\n",
    "                                                               'name':input('Укажите фирму-производителя: '),\\\n",
    "                                                               'price':input('Укажите стоимость в рублях: '),\n",
    "                                                               'speed':input('Укажите скорость печати: ')\n",
    "                                                              }\n",
    "        \n",
    "class Scaner(Equipment):\n",
    "    def __init__(self):\n",
    "        super().__init__(equip)\n",
    "        Scaner.features(self)\n",
    "\n",
    "    def features(self):\n",
    "        item_count = sum(list(Warehouse.store_data.values()))\n",
    "        while len(Equipment.equipment_dict)<item_count:\n",
    "            Equipment.equipment_dict[len(Equipment.equipment_dict)] = {'type':equip,\\\n",
    "                                                               'name':input('Укажите фирму-производителя: '),\\\n",
    "                                                               'price':input('Укажите стоимость в рублях: '),\n",
    "                                                               'speed':input('Укажите скорость сканирования: ')\n",
    "                                                              }\n",
    "        \n",
    "class Copier(Equipment):\n",
    "    def __init__(self):\n",
    "        super().__init__(equip)\n",
    "        Copier.features(self)\n",
    "\n",
    "    def features(self):\n",
    "        item_count = sum(list(Warehouse.store_data.values()))\n",
    "        while len(Equipment.equipment_dict)<item_count:\n",
    "            Equipment.equipment_dict[len(Equipment.equipment_dict)] = {'type':equip,\\\n",
    "                                                               'name':input('Укажите фирму-производителя: '),\\\n",
    "                                                               'price':input('Укажите стоимость в рублях: '),\n",
    "                                                               'speed':input('Укажите скорость копирования: ')\n",
    "                                                              }\n",
    "        \n",
    "\n",
    "dict_equip = {'Принтеры':1,'Сканеры':2,'Копиры':3}\n",
    "print('''\n",
    "Используемые коды товаров:\n",
    "1 - Принтеры;\n",
    "2 - Сканеры;\n",
    "3 - Копиры.\n",
    "''')\n",
    "\n",
    "def new_order():\n",
    "    equip_code = input('Укажите код товара.')\n",
    "    equip = None\n",
    "    try:\n",
    "        equip_code = int(equip_code)\n",
    "        if equip_code not in dict_equip.values():\n",
    "            print(equip_code)\n",
    "            raise ValuesError()\n",
    "    except ValuesError as VE:\n",
    "        print(VE)\n",
    "    else:\n",
    "        for i in dict_equip:\n",
    "            equip = i if dict_equip[i]==equip_code else equip\n",
    "        warehouse_info = Warehouse()\n",
    "        warehouse_info.how_much(equip)\n",
    "    return equip_code,equip\n",
    "def describe_items(equip_code,equip):\n",
    "    if equip_code==1:\n",
    "        quantity = Warehouse.quantity_of_equip()\n",
    "        eq = Equipment(equip)\n",
    "        printer =  Printer()\n",
    "        if quantity!='error':\n",
    "            printer.income_quantity(quantity)\n",
    "            printer.features()\n",
    "        else:\n",
    "            print('Произошла ошибка. Работа программы завершена.')\n",
    "    elif equip_code==2:\n",
    "        quantity = Warehouse.quantity_of_equip()\n",
    "        eq = Equipment(equip)\n",
    "        printer =  Scaner()\n",
    "        if quantity!='error':\n",
    "            printer.income_quantity(quantity)\n",
    "            printer.features()\n",
    "        else:\n",
    "            print('Произошла ошибка. Работа программы завершена.')\n",
    "    elif equip_code==3:\n",
    "        eq = Equipment(equip)\n",
    "        scaner =  Copier()\n",
    "        if quantity!='error':\n",
    "            scaner.income_quantity(quantity)\n",
    "            scaner.features()\n",
    "        else:\n",
    "            print('Произошла ошибка. Работа программы завершена.')\n",
    "    else:\n",
    "        print('Возникла непредвиденная ошибка.')\n",
    "        \n"
   ]
  },
  {
   "cell_type": "markdown",
   "id": "6685c5e5-33f2-4001-849f-63b8aacebb4c",
   "metadata": {},
   "source": [
    "---\n",
    "добавляем товар с кодом 1 (принтер)"
   ]
  },
  {
   "cell_type": "code",
   "execution_count": 8,
   "id": "23320f09-aece-44f0-a0ae-ef5ce60c99d1",
   "metadata": {},
   "outputs": [
    {
     "name": "stdin",
     "output_type": "stream",
     "text": [
      "Укажите код товара. 1\n"
     ]
    },
    {
     "name": "stdout",
     "output_type": "stream",
     "text": [
      "В настоящее время на складе 0 единиц товара вида \"Принтеры\"\n"
     ]
    },
    {
     "name": "stdin",
     "output_type": "stream",
     "text": [
      "Укажите число единиц товара:  1\n"
     ]
    },
    {
     "name": "stdout",
     "output_type": "stream",
     "text": [
      "Вы добавляете товар на склад.\n",
      "Операция выполнена. Товар добавлен.\n"
     ]
    },
    {
     "name": "stdin",
     "output_type": "stream",
     "text": [
      "Укажите фирму-производителя:  HP\n",
      "Укажите стоимость в рублях:  50000\n",
      "Укажите скорость печати:  50\n"
     ]
    }
   ],
   "source": [
    "equip_code,equip = new_order()\n",
    "describe_items(equip_code,equip)"
   ]
  },
  {
   "cell_type": "markdown",
   "id": "5e9b01ab-9cfe-42b7-8177-88de6c7bd183",
   "metadata": {},
   "source": [
    "---\n",
    "добавим товар с кодом 2 (сканер)"
   ]
  },
  {
   "cell_type": "code",
   "execution_count": 9,
   "id": "4d41ca3f-57ae-4d27-a935-83a1ed6db198",
   "metadata": {},
   "outputs": [
    {
     "name": "stdin",
     "output_type": "stream",
     "text": [
      "Укажите код товара. 2\n"
     ]
    },
    {
     "name": "stdout",
     "output_type": "stream",
     "text": [
      "В настоящее время на складе 0 единиц товара вида \"Сканеры\"\n"
     ]
    },
    {
     "name": "stdin",
     "output_type": "stream",
     "text": [
      "Укажите число единиц товара:  as\n"
     ]
    },
    {
     "name": "stdout",
     "output_type": "stream",
     "text": [
      "Вы ввели некорректное значение.\n",
      "\n"
     ]
    },
    {
     "name": "stdin",
     "output_type": "stream",
     "text": [
      "Укажите число единиц товара:  2\n"
     ]
    },
    {
     "name": "stdout",
     "output_type": "stream",
     "text": [
      "Вы добавляете товар на склад.\n",
      "Операция выполнена. Товар добавлен.\n"
     ]
    },
    {
     "name": "stdin",
     "output_type": "stream",
     "text": [
      "Укажите фирму-производителя:  HP\n",
      "Укажите стоимость в рублях:  12000\n",
      "Укажите скорость сканирования:  2\n",
      "Укажите фирму-производителя:  XEROX\n",
      "Укажите стоимость в рублях:  20000\n",
      "Укажите скорость сканирования:  4\n"
     ]
    }
   ],
   "source": [
    "equip_code,equip = new_order()\n",
    "describe_items(equip_code,equip)"
   ]
  },
  {
   "cell_type": "code",
   "execution_count": 10,
   "id": "a36cc0e6-ba70-4f1f-b1e8-24ee975daac8",
   "metadata": {},
   "outputs": [
    {
     "data": {
      "text/plain": [
       "{'Принтеры': 1, 'Сканеры': 2, 'Копиры': 0}"
      ]
     },
     "execution_count": 10,
     "metadata": {},
     "output_type": "execute_result"
    }
   ],
   "source": [
    "# просмотр содержимого словаря с количеством товаров\n",
    "Warehouse.store_data"
   ]
  },
  {
   "cell_type": "code",
   "execution_count": 11,
   "id": "8e92766a-f920-4ba3-a45e-35f7b84eea59",
   "metadata": {},
   "outputs": [
    {
     "data": {
      "text/plain": [
       "{0: {'type': 'Принтеры', 'name': 'HP', 'price': '50000', 'speed': '50'},\n",
       " 1: {'type': 'Сканеры', 'name': 'HP', 'price': '12000', 'speed': '2'},\n",
       " 2: {'type': 'Сканеры', 'name': 'XEROX', 'price': '20000', 'speed': '4'}}"
      ]
     },
     "execution_count": 11,
     "metadata": {},
     "output_type": "execute_result"
    }
   ],
   "source": [
    "# просмотр словаря с описанием товаров\n",
    "Equipment.equipment_dict"
   ]
  },
  {
   "cell_type": "code",
   "execution_count": 12,
   "id": "2e4de6a4-3bcc-4a50-9309-8e3d050c3148",
   "metadata": {},
   "outputs": [
    {
     "data": {
      "text/html": [
       "<div>\n",
       "<style scoped>\n",
       "    .dataframe tbody tr th:only-of-type {\n",
       "        vertical-align: middle;\n",
       "    }\n",
       "\n",
       "    .dataframe tbody tr th {\n",
       "        vertical-align: top;\n",
       "    }\n",
       "\n",
       "    .dataframe thead th {\n",
       "        text-align: right;\n",
       "    }\n",
       "</style>\n",
       "<table border=\"1\" class=\"dataframe\">\n",
       "  <thead>\n",
       "    <tr style=\"text-align: right;\">\n",
       "      <th></th>\n",
       "      <th>type</th>\n",
       "      <th>name</th>\n",
       "      <th>price</th>\n",
       "      <th>speed</th>\n",
       "    </tr>\n",
       "  </thead>\n",
       "  <tbody>\n",
       "    <tr>\n",
       "      <th>0</th>\n",
       "      <td>Принтеры</td>\n",
       "      <td>HP</td>\n",
       "      <td>50000</td>\n",
       "      <td>50</td>\n",
       "    </tr>\n",
       "    <tr>\n",
       "      <th>1</th>\n",
       "      <td>Сканеры</td>\n",
       "      <td>HP</td>\n",
       "      <td>12000</td>\n",
       "      <td>2</td>\n",
       "    </tr>\n",
       "    <tr>\n",
       "      <th>2</th>\n",
       "      <td>Сканеры</td>\n",
       "      <td>XEROX</td>\n",
       "      <td>20000</td>\n",
       "      <td>4</td>\n",
       "    </tr>\n",
       "  </tbody>\n",
       "</table>\n",
       "</div>"
      ],
      "text/plain": [
       "       type   name  price speed\n",
       "0  Принтеры     HP  50000    50\n",
       "1   Сканеры     HP  12000     2\n",
       "2   Сканеры  XEROX  20000     4"
      ]
     },
     "execution_count": 12,
     "metadata": {},
     "output_type": "execute_result"
    }
   ],
   "source": [
    "pd.DataFrame(Equipment.equipment_dict).T"
   ]
  },
  {
   "cell_type": "markdown",
   "id": "37800b3b-bf32-4f19-baf8-79f288bb7699",
   "metadata": {},
   "source": [
    "# Задача 7"
   ]
  },
  {
   "cell_type": "code",
   "execution_count": 13,
   "id": "be223a5b-e3f9-4adc-ba36-4af5df20ffda",
   "metadata": {},
   "outputs": [
    {
     "name": "stdout",
     "output_type": "stream",
     "text": [
      "Укажите данные первого комплексного числа:\n"
     ]
    },
    {
     "name": "stdin",
     "output_type": "stream",
     "text": [
      "Введите действительную часть комплексного числа:  1\n",
      "Введите мнимую часть комплексного числа:  2\n"
     ]
    },
    {
     "name": "stdout",
     "output_type": "stream",
     "text": [
      "\n",
      "Укажите данные второго комплексного числа:\n"
     ]
    },
    {
     "name": "stdin",
     "output_type": "stream",
     "text": [
      "Введите действительную часть комплексного числа:  4\n",
      "Введите мнимую часть комплексного числа:  5\n"
     ]
    },
    {
     "name": "stdout",
     "output_type": "stream",
     "text": [
      "Результат сложения комплексных чисел:\n",
      "5.0 + 7.0i\n",
      "Результат умножения комплексных чисел:\n",
      "4.0 + 10.0i\n"
     ]
    }
   ],
   "source": [
    "class ComplexNumber():\n",
    "    def __init__(self):\n",
    "        self.actual_part = ComplexNumber.actual(self)\n",
    "        self.virtual_part = ComplexNumber.virtual(self)\n",
    "        \n",
    "    def actual(self):\n",
    "        part = input('Введите действительную часть комплексного числа: ')\n",
    "        return part\n",
    "    def virtual(self):\n",
    "        part = input('Введите мнимую часть комплексного числа: ')\n",
    "        return part\n",
    "    @staticmethod\n",
    "    def check_values(x1,x2,y1,y2):\n",
    "        for i in [x1,x2,y1,y2]:\n",
    "            try:\n",
    "                if i.replace('.','',1).isdigit():\n",
    "                    float(i)\n",
    "                else:\n",
    "                    raise ValuesError()\n",
    "            except ValuesError as VE:\n",
    "                print(VE)\n",
    "                return\n",
    "            else:\n",
    "                i = int(i)\n",
    "        return x1,x2,y1,y2\n",
    "            \n",
    "        \n",
    "    def __add__(self,second_number):\n",
    "        if ComplexNumber.check_values(self.actual_part,second_number.actual_part,self.virtual_part,second_number.virtual_part):\n",
    "            self.actual_sum = float(self.actual_part) + float(second_number.actual_part)\n",
    "            self.virtual_sum = float(self.virtual_part) + float(second_number.virtual_part)\n",
    "            return f'{self.actual_sum} + {self.virtual_sum}i'\n",
    "        else:\n",
    "            return 'Вы ввели неверные значения. Выполните проверку - и повторите попытку.'\n",
    "        \n",
    "    def __mul__(self,second_number):\n",
    "        if ComplexNumber.check_values(self.actual_part,second_number.actual_part,self.virtual_part,second_number.virtual_part):\n",
    "            self.actual_sum = float(self.actual_part) * float(second_number.actual_part)\n",
    "            self.virtual_sum = float(self.virtual_part) * float(second_number.virtual_part)\n",
    "            return f'{self.actual_sum} + {self.virtual_sum}i'\n",
    "        else:\n",
    "            return 'Вы ввели неверные значения. Выполните проверку - и повторите попытку.'\n",
    "\n",
    "print('Укажите данные первого комплексного числа:')\n",
    "first = ComplexNumber()\n",
    "print('\\nУкажите данные второго комплексного числа:')\n",
    "second = ComplexNumber()\n",
    "print('Результат сложения комплексных чисел:')\n",
    "print(first+second)\n",
    "print('Результат умножения комплексных чисел:')\n",
    "print(first*second)"
   ]
  },
  {
   "cell_type": "code",
   "execution_count": null,
   "id": "6c8dd0d8-a198-40ad-be14-ce22b9b6b350",
   "metadata": {},
   "outputs": [],
   "source": []
  }
 ],
 "metadata": {
  "kernelspec": {
   "display_name": "Python 3 (ipykernel)",
   "language": "python",
   "name": "python3"
  },
  "language_info": {
   "codemirror_mode": {
    "name": "ipython",
    "version": 3
   },
   "file_extension": ".py",
   "mimetype": "text/x-python",
   "name": "python",
   "nbconvert_exporter": "python",
   "pygments_lexer": "ipython3",
   "version": "3.9.7"
  }
 },
 "nbformat": 4,
 "nbformat_minor": 5
}
